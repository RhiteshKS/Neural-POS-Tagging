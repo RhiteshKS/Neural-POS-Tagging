{
  "cells": [
    {
      "cell_type": "code",
      "execution_count": 2,
      "metadata": {
        "colab": {
          "base_uri": "https://localhost:8080/"
        },
        "id": "CDqDmPO_T0HC",
        "outputId": "6d237399-82f1-4606-bf41-8075989fedb7"
      },
      "outputs": [
        {
          "name": "stdout",
          "output_type": "stream",
          "text": [
            "Collecting conllu\n",
            "  Downloading conllu-4.5.3-py2.py3-none-any.whl (16 kB)\n",
            "Installing collected packages: conllu\n",
            "Successfully installed conllu-4.5.3\n"
          ]
        }
      ],
      "source": [
        "!pip install conllu"
      ]
    },
    {
      "cell_type": "code",
      "execution_count": 3,
      "metadata": {
        "id": "_UKg3iLOUKpM"
      },
      "outputs": [],
      "source": [
        "from conllu import parse_incr\n",
        "from collections import Counter, defaultdict\n",
        "import os\n",
        "\n",
        "# File paths\n",
        "train_file_path = 'en_atis-ud-train.conllu'\n",
        "dev_file_path = 'en_atis-ud-dev.conllu'\n",
        "test_file_path = 'en_atis-ud-test.conllu'\n",
        "\n",
        "\n",
        "UNK = \"<UNK>\"\n",
        "PAD = \"<PAD>\"\n",
        "START = \"<START>\"\n",
        "END = \"<END>\"\n",
        "\n",
        "def load_and_preprocess_conllu(file_path):\n",
        "    \"\"\"\n",
        "    Load a .conllu file, preprocess it by filtering out non-alphabetic tokens,\n",
        "    and return sentences and their corresponding POS tags.\n",
        "    \"\"\"\n",
        "    sentences = []\n",
        "    pos_tags = []\n",
        "\n",
        "    with open(file_path, 'r', encoding='utf-8') as file:\n",
        "        for tokenlist in parse_incr(file):\n",
        "            sentence = []\n",
        "            tags = []\n",
        "            for token in tokenlist:\n",
        "                if token['form'].isalpha(): \n",
        "                    sentence.append(token['form'].lower())\n",
        "                    tags.append(token['upos'])\n",
        "            sentences.append([START] + sentence + [END])\n",
        "            # sentences.append(sentence)\n",
        "            pos_tags.append([PAD] + tags + [PAD])\n",
        "            # pos_tags.append(tags)\n",
        "    return sentences, pos_tags\n",
        "\n",
        "\n"
      ]
    },
    {
      "cell_type": "code",
      "execution_count": 4,
      "metadata": {
        "colab": {
          "base_uri": "https://localhost:8080/"
        },
        "id": "Y-PFSEY4UN7l",
        "outputId": "1aefd9c6-b6df-4bb0-b4c3-718da40c3dbe"
      },
      "outputs": [
        {
          "name": "stdout",
          "output_type": "stream",
          "text": [
            "Counter({'<START>': 4846, '<END>': 4846, 'to': 4200, 'from': 3627, 'flights': 2342, 'the': 2021, 'on': 1502, 'what': 1220, 'flight': 1186, 'me': 1138, 'i': 1005, 'show': 947, 'san': 944, 'boston': 944, 'a': 924, 'denver': 876, 'in': 810, 'francisco': 782, 'and': 774, 'atlanta': 658, 'is': 612, 'dallas': 580, 'pittsburgh': 577, 'all': 554, 'list': 542, 'baltimore': 494, 'philadelphia': 479, 'like': 474, 'are': 432, 'airlines': 412, 'of': 367, 'that': 361, 'between': 357, 'washington': 347, 'pm': 311, 'please': 310, 'leaving': 306, 'morning': 300, 'would': 282, 'fly': 269, 'city': 262, 'for': 257, 'need': 241, 'first': 237, 'wednesday': 236, 'fare': 233, 'after': 228, 'oakland': 220, 'there': 217, 'trip': 212, 'cheapest': 205, 'ground': 203, 'you': 201, 'round': 199, 'arriving': 196, 'transportation': 194, 'which': 192, 'class': 191, 'does': 189, 'before': 187, 'with': 178, 'afternoon': 175, 'milwaukee': 174, 'available': 172, 'have': 171, 'american': 170, 'at': 170, 'new': 167, 'one': 167, 'way': 161, 'fares': 161, 'dc': 160, 'leave': 160, 'york': 158, 'give': 156, 'monday': 151, 'airport': 150, 'want': 148, 'tuesday': 147, 'thursday': 145, 'arrive': 143, 'how': 143, 'nonstop': 141, 'find': 134, 'earliest': 130, 'go': 129, 'information': 128, 'phoenix': 127, 'united': 127, 'vegas': 125, 'chicago': 124, 'las': 124, 'miami': 123, 'can': 121, 'orlando': 121, 'sunday': 121, 'am': 120, 'saturday': 118, 'charlotte': 116, 'twenty': 114, 'toronto': 114, 'evening': 111, 'newark': 111, 'delta': 110, 'indianapolis': 106, 'noon': 106, 'diego': 105, 'seattle': 104, 'kansas': 103, 'houston': 103, 'salt': 103, 'lake': 103, 'any': 100, 'us': 94, 'air': 94, 'continental': 91, 'do': 90, 'next': 89, 'friday': 89, 'airline': 87, 'cleveland': 87, 'august': 86, 'stop': 85, 'fort': 84, 'worth': 84, 'seventh': 84, 'aircraft': 84, 'july': 83, 'memphis': 82, 'early': 81, 'los': 78, 'angeles': 78, 'tell': 76, 'downtown': 75, 'montreal': 71, 'cincinnati': 70, 'louis': 68, 'june': 68, 'petersburg': 66, 'or': 66, 'get': 64, 'latest': 63, 'tampa': 62, 'cost': 61, 'tomorrow': 61, 'nashville': 61, 'around': 60, 'many': 58, 'an': 58, 'detroit': 58, 'minneapolis': 58, 'jose': 57, 'stopover': 56, 'going': 56, 'departing': 55, 'code': 54, 'about': 54, 'tacoma': 54, 'type': 52, 'by': 50, 'could': 49, 'burbank': 48, 'twa': 48, 'ticket': 48, 'leaves': 48, 'may': 47, 'much': 45, 'service': 44, 'travel': 44, 'expensive': 44, 'long': 44, 'international': 43, 'california': 42, 'mean': 42, 'daily': 41, 'columbus': 41, 'paul': 41, 'see': 41, 'coach': 40, 'depart': 40, 'april': 39, 'know': 39, 'than': 38, 'dollars': 37, 'night': 37, 'beach': 37, 'okay': 36, 'economy': 36, 'least': 36, 'meal': 35, 'time': 35, 'book': 35, 'lowest': 35, 'northwest': 34, 'into': 32, 'ontario': 31, 'december': 31, 'arrives': 31, 'la': 31, 'used': 31, 'now': 30, 'day': 30, 'serve': 30, 'november': 30, 'return': 30, 'westchester': 30, 'last': 30, 'airports': 29, 'september': 29, 'flying': 28, 'it': 28, 'serves': 27, 'county': 27, 'less': 27, 'second': 26, 'eighth': 25, 'third': 25, 'capacity': 25, 'as': 24, 'take': 24, 'be': 24, 'seating': 24, 'kind': 24, 'fifth': 23, 'schedule': 23, 'served': 23, 'general': 23, 'mitchell': 23, 'direct': 23, 'stopping': 22, 'love': 22, 'field': 22, 'dinner': 22, 'connecting': 22, 'car': 21, 'stops': 21, 'make': 21, 'breakfast': 21, 'sixth': 20, 'meals': 20, 'back': 20, 'out': 20, 'number': 20, 'goes': 20, 'cities': 20, 'flies': 20, 'looking': 20, 'airfare': 19, 'eastern': 19, 'will': 19, 'price': 19, 'this': 19, 'possible': 18, 'has': 18, 'ninth': 18, 'times': 18, 'business': 18, 'late': 17, 'through': 17, 'twentieth': 17, 'prices': 17, 'fourth': 17, 'two': 16, 'types': 16, 'most': 16, 'via': 16, 'limousine': 16, 'plane': 16, 'using': 16, 'stand': 15, 'display': 15, 'same': 15, 'week': 15, 'other': 15, 'tenth': 15, 'also': 15, 'today': 15, 'ua': 15, 'restriction': 14, 'rental': 14, 'guardia': 14, 'your': 14, 'wednesdays': 14, 'dl': 14, 'bwi': 13, 'only': 13, 'fifteenth': 13, 'canadian': 13, 'again': 13, 'thirtieth': 13, 'then': 13, 'interested': 13, 'twelfth': 12, 'ap': 12, 'florida': 12, 'midwest': 12, 'express': 12, 'distance': 12, 'should': 12, 'north': 11, 'carolina': 11, 'seventeenth': 11, 'either': 11, 'classes': 11, 'shortest': 11, 'returning': 10, 'listing': 10, 'sixteenth': 10, 'departure': 10, 'jfk': 10, 'numbers': 10, 'where': 10, 'october': 10, 'use': 10, 'tickets': 10, 'lunch': 10, 'arrangements': 10, 'jersey': 9, 'eleventh': 9, 'my': 9, 'explain': 9, 'smallest': 9, 'thirty': 9, 'far': 9, 'makes': 9, 'if': 9, 'colorado': 9, 'f': 9, 'qx': 9, 'traveling': 9, 'weekday': 9, 'layover': 8, 'arizona': 8, 'but': 8, 'people': 8, 'area': 8, 'right': 8, 'their': 8, 'yes': 8, 'transport': 8, 'hi': 8, 'abbreviation': 8, 'stopovers': 8, 'rent': 7, 'tower': 7, 'hours': 7, 'when': 7, 'dfw': 7, 'march': 7, 'midnight': 7, 'january': 7, 'nineteenth': 7, 'under': 7, 'each': 7, 'offer': 7, 'y': 7, 'q': 7, 'some': 7, 'over': 7, 'live': 7, 'alaska': 7, 'no': 6, 'later': 6, 'canada': 6, 'ohio': 6, 'codes': 6, 'during': 6, 'mco': 6, 'both': 6, 'anywhere': 6, 'fourteenth': 6, 'airplane': 6, 'planes': 6, 'mornings': 6, 'thank': 6, 'lufthansa': 6, 'let': 6, 'trying': 6, 'february': 5, 'days': 5, 'sfo': 5, 'logan': 5, 'minnesota': 5, 'taxi': 5, 'provided': 5, 'name': 5, 'arrivals': 5, 'boeing': 5, 'uses': 5, 'thrift': 5, 'making': 5, 'eighteenth': 5, 'yn': 5, 'utah': 5, 'quebec': 5, 'michigan': 5, 'indiana': 5, 'landings': 5, 'serving': 5, 'sometime': 5, 'these': 5, 'hp': 5, 'trips': 5, 'texas': 4, 'near': 4, 'amount': 4, 'those': 4, 'rates': 4, 'costs': 4, 'passengers': 4, 'arrival': 4, 'ewr': 4, 'miles': 4, 'sixteen': 4, 'departures': 4, 'more': 4, 'total': 4, 'land': 4, 'departs': 4, 'different': 4, 'georgia': 4, 'pennsylvania': 4, 'takeoffs': 4, 'coming': 4, 'qw': 4, 'h': 4, 'three': 4, 'saturdays': 4, 'ea': 4, 'close': 4, 'starting': 4, 'help': 4, 'cheap': 4, 'tuesdays': 4, 'hello': 4, 'requesting': 4, 'following': 3, 'meaning': 3, 's': 3, 'restrictions': 3, 'nevada': 3, 'connect': 3, 'cars': 3, 'options': 3, 'so': 3, 'maximum': 3, 'weekdays': 3, 'ten': 3, 'tennessee': 3, 'america': 3, 'west': 3, 'nationair': 3, 'describe': 3, 'turboprop': 3, 'fit': 3, 'seats': 3, 'provide': 3, 'well': 3, 'booking': 3, 'services': 3, 'soon': 3, 'm': 3, 'fn': 3, 'include': 3, 'destination': 3, 'co': 3, 'thursdays': 3, 'reservation': 3, 'we': 3, 'southwest': 3, 'ff': 3, 'originating': 3, 'choices': 3, 'six': 3, 'wish': 3, 'noontime': 3, 'arrange': 3, 'plan': 3, 'actually': 2, 'still': 2, 'lastest': 2, 'without': 2, 'another': 2, 'atl': 2, 'rentals': 2, 'earlier': 2, 'not': 2, 'schedules': 2, 'repeat': 2, 'ord': 2, 'dca': 2, 'serviced': 2, 'names': 2, 'eight': 2, 'various': 2, 'dulles': 2, 'along': 2, 'hold': 2, 'airplanes': 2, 'capacities': 2, 'itinerary': 2, 'connections': 2, 'four': 2, 'who': 2, 'sure': 2, 'determine': 2, 'connection': 2, 'aa': 2, 'too': 2, 'limo': 2, 'missouri': 2, 'great': 2, 'up': 2, 'difference': 2, 'b': 2, 'qo': 2, 'offers': 2, 'very': 2, 'kinds': 2, 'they': 2, 'takeoff': 2, 'nonstops': 2, 'lives': 2, 'nw': 2, 'define': 2, 'stands': 2, 'ac': 2, 'sorry': 2, 'rate': 2, 'reservations': 2, 'buy': 2, 'look': 2, 'transcontinental': 2, 'month': 2, 'heading': 2, 'approximately': 2, 'highest': 2, 'thirteenth': 2, 'mondays': 2, 'bound': 2, 'philly': 2, 'airfares': 2, 'c': 2, 'beginning': 1, 'closest': 1, 'ls': 1, 'designate': 1, 'trans': 1, 'world': 1, 'sort': 1, 'fine': 1, 'belong': 1, 'snacks': 1, 'ever': 1, 'route': 1, 'longest': 1, 'red': 1, 'eye': 1, 'straight': 1, 'off': 1, 'oak': 1, 'operation': 1, 'lester': 1, 'pearson': 1, 'located': 1, 'zone': 1, 'exceeding': 1, 'carries': 1, 'nights': 1, 'iah': 1, 'cvg': 1, 'bna': 1, 'mci': 1, 'hou': 1, 'lga': 1, 'lax': 1, 'yyz': 1, 'bur': 1, 'regarding': 1, 'largest': 1, 'greatest': 1, 'instead': 1, 'besides': 1, 'advertises': 1, 'having': 1, 'equal': 1, 'carried': 1, 'level': 1, 'tonight': 1, 'hopefully': 1, 'connects': 1, 'including': 1, 'preferably': 1, 'local': 1, 'combination': 1, 'run': 1, 'come': 1, 'k': 1, 'minimum': 1, 'intercontinental': 1, 'limousines': 1, 'train': 1, 'stapleton': 1, 'sounds': 1, 'grounds': 1, 'calling': 1, 'thereafter': 1, 'anything': 1, 'bring': 1, 'qualify': 1, 'basis': 1, 'bh': 1, 'included': 1, 'whether': 1, 'offered': 1, 'being': 1, 'working': 1, 'scenario': 1, 'called': 1, 'includes': 1, 'travels': 1, 'snack': 1, 'supper': 1, 'reaches': 1, 'reaching': 1, 'vicinity': 1, 'good': 1, 'overnight': 1, 'final': 1, 'summer': 1, 'listed': 1, 'taking': 1, 'try': 1, 'inform': 1, 'kindly': 1, 'proper': 1, 'town': 1, 'kennedy': 1, 'within': 1, 'friends': 1, 'visit': 1, 'here': 1, 'them': 1, 'nighttime': 1, 'usa': 1, 'able': 1, 'put': 1, 'symbols': 1, 'kw': 1, 'sam': 1, 'wn': 1, 'must': 1, 'equipment': 1, 'abbreviations': 1, 'jet': 1, 'companies': 1, 'continuing': 1, 'represented': 1, 'database': 1, 'single': 1, 'directly': 1, 'afterwards': 1, 'scheduled': 1, 'seat': 1, 'india': 1, 'say': 1, 'mealtime': 1, 'economic': 1, 'discount': 1, 'staying': 1, 'while': 1, 'across': 1, 'continent': 1, 'begins': 1, 'lands': 1, 'landing': 1, 'such': 1, 'toward': 1, 'inexpensive': 1, 'thing': 1, 'thanks': 1, 'question': 1, 'spend': 1, 'seventeen': 1, 'priced': 1, 'charges': 1, 'dinnertime': 1, 'got': 1, 'somebody': 1, 'else': 1, 'wants': 1, 'seven': 1, 'catch': 1, 'fifteen': 1, 'midway': 1, 'oh': 1, 'prefer': 1, 'comes': 1, 'fridays': 1, 'sundays': 1, 'bay': 1, 'planning': 1, 'home': 1, 'reverse': 1, 'order': 1, 'd': 1, 'listings': 1, 'laying': 1, 'sb': 1, 'mia': 1, 'takes': 1, 'wanted': 1, 'enroute': 1, 'cp': 1, 'just': 1, 'cover': 1, 'provides': 1, 'non': 1, 'once': 1, 'eleven': 1, 'afternoons': 1, 'start': 1, 'place': 1})\n",
            "The word 'an' occurs 58 times in all_sentences.\n",
            "The word 'an' occurs 58 times in all_sentences.\n",
            "POS tags for the word 'an': ['DET', 'DET', 'DET', 'DET', 'DET', 'DET', 'DET', 'DET', 'DET', 'DET', 'DET', 'DET', 'DET', 'DET', 'DET', 'DET', 'DET', 'DET', 'DET', 'DET', 'DET', 'DET', 'DET', 'DET', 'DET', 'DET', 'DET', 'DET', 'DET', 'DET', 'DET', 'DET', 'DET', 'DET', 'DET', 'DET', 'DET', 'DET', 'DET', 'DET', 'DET', 'DET', 'DET', 'DET', 'DET', 'DET', 'DET', 'DET', 'DET', 'DET', 'DET', 'DET', 'DET', 'DET', 'DET', 'DET', 'DET', 'DET']\n",
            "All sentences in train set have matching number of words and POS tags.\n",
            "All sentences in dev set have matching number of words and POS tags.\n"
          ]
        }
      ],
      "source": [
        "train_sentences, train_pos_tags = load_and_preprocess_conllu(train_file_path)\n",
        "dev_sentences, dev_pos_tags = load_and_preprocess_conllu(dev_file_path)\n",
        "test_sentences, test_pos_tags = load_and_preprocess_conllu(test_file_path)\n",
        "\n",
        "all_sentences = train_sentences + dev_sentences\n",
        "\n",
        "word_freq = Counter([word for sentence in all_sentences for word in sentence])\n",
        "print(word_freq)\n",
        "\n",
        "word_to_check = 'an'\n",
        "occurrences = word_freq.get(word_to_check, 0)\n",
        "print(f\"The word '{word_to_check}' occurs {occurrences} times in all_sentences.\")\n",
        "\n",
        "word_to_check = 'an'\n",
        "pos_tags_for_word = []\n",
        "\n",
        "for sentence, pos_tags in zip(all_sentences, train_pos_tags + dev_pos_tags):\n",
        "    if word_to_check in sentence:\n",
        "        indices = [i for i, word in enumerate(sentence) if word == word_to_check]\n",
        "        for i in indices:\n",
        "            if i < len(pos_tags):  \n",
        "                pos_tags_for_word.append(pos_tags[i])\n",
        "\n",
        "print(f\"The word '{word_to_check}' occurs {len(pos_tags_for_word)} times in all_sentences.\")\n",
        "print(\"POS tags for the word 'an':\", pos_tags_for_word)\n",
        "\n",
        "\n",
        "for train_sentence, train_pos_tag in zip(train_sentences, train_pos_tags):\n",
        "    if len(train_sentence) != len(train_pos_tag):\n",
        "        print(\"Mismatch found in train set!\")\n",
        "        break\n",
        "else:\n",
        "    print(\"All sentences in train set have matching number of words and POS tags.\")\n",
        "\n",
        "for dev_sentence, dev_pos_tag in zip(dev_sentences, dev_pos_tags):\n",
        "    if len(dev_sentence) != len(dev_pos_tag):\n",
        "        print(\"Mismatch found in dev set!\")\n",
        "        break\n",
        "else:\n",
        "    print(\"All sentences in dev set have matching number of words and POS tags.\")\n",
        "\n"
      ]
    },
    {
      "cell_type": "code",
      "execution_count": 5,
      "metadata": {
        "colab": {
          "base_uri": "https://localhost:8080/"
        },
        "id": "w7K0EPjnSOg7",
        "outputId": "b2b0730b-84bf-4630-9aec-8382b012fe70"
      },
      "outputs": [
        {
          "name": "stdout",
          "output_type": "stream",
          "text": [
            "[['<START>', 'what', 'are', 'the', 'coach', 'flights', 'between', 'dallas', 'and', 'baltimore', 'leaving', 'august', 'tenth', 'and', 'returning', 'august', 'twelve', '<END>'], ['<START>', 'i', 'want', 'a', 'flight', 'from', 'nashville', 'to', 'seattle', 'that', 'arrives', 'no', 'later', 'than', 'pm', '<END>'], ['<START>', 'i', 'need', 'a', 'flight', 'leaving', 'kansas', 'city', 'to', 'chicago', 'leaving', 'next', 'wednesday', 'and', 'returning', 'the', 'following', 'day', '<END>'], ['<START>', 'explain', 'meal', 'codes', 'sd', 'd', '<END>']]\n",
            "[['<PAD>', 'PRON', 'AUX', 'DET', 'NOUN', 'NOUN', 'ADP', 'PROPN', 'CCONJ', 'PROPN', 'VERB', 'NOUN', 'ADJ', 'CCONJ', 'VERB', 'NOUN', 'NUM', '<PAD>'], ['<PAD>', 'PRON', 'VERB', 'DET', 'NOUN', 'ADP', 'PROPN', 'ADP', 'PROPN', 'ADP', 'VERB', 'DET', 'ADJ', 'ADP', 'NOUN', '<PAD>'], ['<PAD>', 'PRON', 'VERB', 'DET', 'NOUN', 'VERB', 'PROPN', 'PROPN', 'ADP', 'PROPN', 'VERB', 'ADJ', 'NOUN', 'CCONJ', 'VERB', 'DET', 'VERB', 'NOUN', '<PAD>'], ['<PAD>', 'VERB', 'NOUN', 'NOUN', 'PROPN', 'PROPN', '<PAD>']]\n"
          ]
        }
      ],
      "source": [
        "print(test_sentences[:4])\n",
        "print(test_pos_tags[:4])"
      ]
    },
    {
      "cell_type": "code",
      "execution_count": 6,
      "metadata": {
        "colab": {
          "base_uri": "https://localhost:8080/"
        },
        "id": "VJz1vXMFUNu5",
        "outputId": "b1fcf1a8-1c05-4472-80b8-c0bb94a4ef55"
      },
      "outputs": [
        {
          "name": "stdout",
          "output_type": "stream",
          "text": [
            "Number of words replaced with <unk> in the train set: 162\n",
            "Number of words replaced with <unk> in the dev set: 18\n",
            "Number of words replaced with <unk> in the test set: 0\n"
          ]
        }
      ],
      "source": [
        "def replace_low_freq_words(sentences, word_freq, threshold=2):\n",
        "    \"\"\"\n",
        "    Replace words with frequency less than threshold with <unk>.\n",
        "    \"\"\"\n",
        "    processed_sentences = []\n",
        "    for sentence in sentences:\n",
        "        processed_sentence = [word if word_freq[word] >= threshold else UNK for word in sentence]\n",
        "        processed_sentences.append(processed_sentence)\n",
        "    return processed_sentences\n",
        "\n",
        "train_sentences = replace_low_freq_words(train_sentences, word_freq)\n",
        "dev_sentences = replace_low_freq_words(dev_sentences, word_freq)\n",
        "\n",
        "def count_unk(sentences):\n",
        "    count = 0\n",
        "    for sentence in sentences:\n",
        "        count += sentence.count('<UNK>')\n",
        "    return count\n",
        "\n",
        "\n",
        "\n",
        "unk_count_train = count_unk(train_sentences)\n",
        "unk_count_dev = count_unk(dev_sentences)\n",
        "unk_count_test = count_unk(test_sentences)\n",
        "\n",
        "print(\"Number of words replaced with <unk> in the train set:\", unk_count_train)\n",
        "print(\"Number of words replaced with <unk> in the dev set:\", unk_count_dev)\n",
        "print(\"Number of words replaced with <unk> in the test set:\", unk_count_test)\n",
        "\n"
      ]
    },
    {
      "cell_type": "code",
      "execution_count": 7,
      "metadata": {
        "colab": {
          "base_uri": "https://localhost:8080/"
        },
        "id": "JZDl_m6BU0nU",
        "outputId": "1017e759-b69b-4fda-8542-d22423ec88f6"
      },
      "outputs": [
        {
          "name": "stderr",
          "output_type": "stream",
          "text": [
            ".vector_cache/glove.6B.zip: 862MB [02:39, 5.42MB/s]                           \n",
            "100%|█████████▉| 399999/400000 [00:24<00:00, 16566.61it/s]\n"
          ]
        }
      ],
      "source": [
        "import torch\n",
        "from torch.utils.data import Dataset, DataLoader\n",
        "import torchtext.vocab as vocab\n",
        "\n",
        "\n",
        "glove = vocab.GloVe(name='6B', dim=100)  # Load 100-dimensional GloVe embeddings\n",
        "\n",
        "\n"
      ]
    },
    {
      "cell_type": "code",
      "execution_count": 8,
      "metadata": {
        "id": "myt8Z8LRADu-"
      },
      "outputs": [],
      "source": [
        "embedding_dim = 100\n",
        "word_to_ix = {word: index + 1 for index, word in enumerate(glove.itos)}  \n",
        "word_to_ix[UNK] = len(word_to_ix) + 1\n",
        "word_to_ix[PAD] = len(word_to_ix) + 1\n",
        "word_to_ix[START] = len(word_to_ix) + 1\n",
        "word_to_ix[END] = len(word_to_ix) + 1\n",
        "\n",
        "embedding_matrix = torch.zeros((len(word_to_ix) + 1, embedding_dim))  \n",
        "for word, idx in word_to_ix.items():\n",
        "    if word in glove.stoi:\n",
        "        embedding_matrix[idx] = glove.vectors[glove.stoi[word]]\n",
        "    else:  \n",
        "        embedding_matrix[idx] = torch.randn(embedding_dim)\n",
        "\n",
        "device = torch.device(\"cuda\" if torch.cuda.is_available() else \"cpu\")\n",
        "\n",
        "embedding_matrix = embedding_matrix.to(device)  \n",
        "\n",
        "pos_tags = set([tag for sentence in train_pos_tags for tag in sentence])\n",
        "\n",
        "tag_to_ix = {'<PAD>': 0, 'CCONJ': 1, 'NOUN': 2, 'AUX': 3, 'PRON': 4, 'DET': 5, 'ADP': 6, 'NUM': 7, 'ADJ': 8, 'ADV': 9, 'PART': 10, 'PROPN': 11, 'INTJ': 12, 'VERB': 13, '<UNK>': 14, 'SYM': 15}\n",
        "idx_to_tag = {idx: tag for tag, idx in tag_to_ix.items()}\n",
        "idx_to_word = {idx: word for word, idx in word_to_ix.items()}\n",
        "\n"
      ]
    },
    {
      "cell_type": "code",
      "execution_count": null,
      "metadata": {
        "id": "nK0DRJLLhVtE"
      },
      "outputs": [],
      "source": [
        "from torch.utils.data import Dataset, DataLoader\n",
        "import torch\n",
        "\n",
        "class POSDataset(Dataset):\n",
        "    def __init__(self, sentences, tags, word_to_ix, tag_to_ix, p, s, embedding_matrix):\n",
        "        self.sentences = sentences\n",
        "        self.tags = tags\n",
        "        self.word_to_ix = word_to_ix\n",
        "        self.tag_to_ix = tag_to_ix\n",
        "        self.p = p\n",
        "        self.s = s\n",
        "        self.embedding_matrix = embedding_matrix\n",
        "\n",
        "    def __len__(self):\n",
        "        return sum(len(sentence) for sentence in self.sentences)\n",
        "\n",
        "    def __getitem__(self, idx):\n",
        "        sentence_idx, token_idx = 0, idx\n",
        "        for sentence in self.sentences:\n",
        "            if token_idx < len(sentence):\n",
        "                break\n",
        "            token_idx -= len(sentence)\n",
        "            sentence_idx += 1\n",
        "\n",
        "        context_window_indices = []\n",
        "        for i in range(token_idx - self.p, token_idx + self.s + 1):\n",
        "            if i < 0 or i >= len(self.sentences[sentence_idx]):  \n",
        "                context_window_indices.append(self.word_to_ix[PAD])  \n",
        "            else:\n",
        "                word = self.sentences[sentence_idx][i]\n",
        "                context_window_indices.append(self.word_to_ix.get(word, self.word_to_ix[UNK])) \n",
        "        context_indices_tensor = torch.tensor(context_window_indices, dtype=torch.long).to(device)\n",
        "        context_embeddings = self.embedding_matrix[context_indices_tensor].view(-1)\n",
        "\n",
        "        tag = self.tags[sentence_idx][token_idx] if token_idx < len(self.tags[sentence_idx]) else UNK\n",
        "        tag_idx = self.tag_to_ix.get(tag, self.tag_to_ix[UNK])\n",
        "\n",
        "        # tag = self.tags[sentence_idx][token_idx]\n",
        "        # tag_idx = self.tag_to_ix.get(tag, self.tag_to_ix[UNK]\n",
        "\n",
        "        return context_embeddings, tag_idx\n",
        "\n",
        "\n",
        "dev_accuracies = []\n",
        "test_accuracies = []\n",
        "\n",
        "p = 1\n",
        "s = 1\n",
        "\n",
        "dataset_tr = POSDataset(train_sentences, train_pos_tags, word_to_ix, tag_to_ix, p, s, embedding_matrix=embedding_matrix)\n",
        "dataset_dev = POSDataset(dev_sentences, dev_pos_tags, word_to_ix, tag_to_ix, p, s, embedding_matrix = embedding_matrix)"
      ]
    },
    {
      "cell_type": "code",
      "execution_count": null,
      "metadata": {
        "id": "s_wArsNpJT_y"
      },
      "outputs": [],
      "source": [
        "from torch.nn.utils.rnn import pad_sequence\n",
        "\n",
        "def collate_batch(batch):\n",
        "    inputs, targets = zip(*batch)\n",
        "\n",
        "    padded_inputs = pad_sequence(inputs, batch_first=True, padding_value=0)\n",
        "\n",
        "    return padded_inputs, torch.tensor(targets)\n",
        "\n",
        "train_dataloader = DataLoader(dataset_tr, batch_size=32, shuffle=True, collate_fn=collate_batch)\n",
        "dev_dataloader = DataLoader(dataset_dev, batch_size=32, shuffle=False, collate_fn=collate_batch)\n"
      ]
    },
    {
      "cell_type": "code",
      "execution_count": null,
      "metadata": {
        "id": "pxoacblTridN"
      },
      "outputs": [],
      "source": [
        "#this is the real deal\n",
        "import torch\n",
        "import torch.nn as nn\n",
        "import torch.optim as optim\n",
        "from tqdm import tqdm\n",
        "\n",
        "\n",
        "\n",
        "# class FFN_POS_Tagger(nn.Module):\n",
        "#     def __init__(self, input_dim, hidden_dim, hidden_dim2, output_dim):\n",
        "#         super(FFN_POS_Tagger, self).__init__()\n",
        "#         self.input_dim = input_dim\n",
        "#         self.hidden_dim = hidden_dim\n",
        "#         self.output_dim = output_dim\n",
        "#         self.fc1 = nn.Linear(input_dim, hidden_dim)\n",
        "#         self.relu1 = nn.ReLU()  # Changed name to relu1\n",
        "#         self.fc2 = nn.Linear(hidden_dim, hidden_dim2)\n",
        "#         self.relu2 = nn.ReLU()  # Changed name to relu2\n",
        "#         self.fc3 = nn.Linear(hidden_dim2, output_dim)\n",
        "\n",
        "\n",
        "#     def forward(self, x):\n",
        "#         batch_size = x.size(0)  # Get the batch size\n",
        "#         x = x.view(batch_size, -1)  # Flatten input\n",
        "#         x = self.fc1(x)\n",
        "#         x = self.relu(x)\n",
        "#         x = self.fc2(x)\n",
        "#         x = self.relu(x)\n",
        "#         x = self.fc3(x)\n",
        "#         return x"
      ]
    },
    {
      "cell_type": "code",
      "execution_count": null,
      "metadata": {
        "id": "nXaK9409pJM7"
      },
      "outputs": [],
      "source": [
        "import torch\n",
        "import torch.nn as nn\n",
        "\n",
        "class FFN_POS_Tagger(nn.Module):\n",
        "    def __init__(self, input_dim, hidden_dim, hidden_dim2, output_dim, activation):\n",
        "        super(FFN_POS_Tagger, self).__init__()\n",
        "        self.input_dim = input_dim\n",
        "        self.hidden_dim = hidden_dim\n",
        "        self.output_dim = output_dim\n",
        "        self.fc1 = nn.Linear(input_dim, hidden_dim)\n",
        "        self.activation1 = self.get_activation(activation)  \n",
        "        self.activation2 = self.get_activation(activation)  \n",
        "        self.fc3 = nn.Linear(hidden_dim2, output_dim)\n",
        "\n",
        "    def get_activation(self, activation):\n",
        "        if activation == 'ReLU':\n",
        "            return nn.ReLU()\n",
        "        elif activation == 'Tanh':\n",
        "            return nn.Tanh()\n",
        "        else:\n",
        "            raise ValueError(\"Invalid activation function. Choose 'ReLU' or 'Tanh'.\")\n",
        "\n",
        "    def forward(self, x):\n",
        "        batch_size = x.size(0)  \n",
        "        x = x.view(batch_size, -1)  \n",
        "        x = self.fc1(x)\n",
        "        x = self.activation1(x)\n",
        "        x = self.fc2(x)\n",
        "        x = self.activation2(x)\n",
        "        x = self.fc3(x)\n",
        "        return x\n"
      ]
    },
    {
      "cell_type": "code",
      "execution_count": null,
      "metadata": {
        "id": "N1SLKM41Y0uP"
      },
      "outputs": [],
      "source": [
        "\n",
        "\n",
        "def train(model, train_dataloader, dev_loader, criterion, optimizer, device, num_epochs=10):\n",
        "    model.train()\n",
        "    for epoch in range(num_epochs):\n",
        "        running_loss = 0.0\n",
        "        for inputs, targets in tqdm(train_dataloader, desc=f\"Epoch {epoch + 1}/{num_epochs}\", unit=\"batch\"):\n",
        "            inputs, targets = inputs.to(device), targets.to(device)\n",
        "            optimizer.zero_grad()\n",
        "            outputs = model(inputs)\n",
        "            loss = criterion(outputs, targets)\n",
        "            loss.backward()\n",
        "            optimizer.step()\n",
        "            running_loss += loss.item()\n",
        "        print(f\"Epoch {epoch + 1}/{num_epochs}, Loss: {running_loss / len(train_dataloader)}\")\n",
        "        evaluate(model, dev_dataloader, criterion, device)\n",
        "\n",
        "def evaluate(model, dev_dataloader, criterion, device):\n",
        "    model.eval()\n",
        "    total_loss = 0.0\n",
        "    correct = 0\n",
        "    total = 0\n",
        "    with torch.no_grad():\n",
        "        for inputs, targets in tqdm(dev_dataloader, desc=\"Evaluation\", unit=\"batch\"):\n",
        "            inputs, targets = inputs.to(device), targets.to(device)\n",
        "            outputs = model(inputs)\n",
        "            loss = criterion(outputs, targets)\n",
        "            total_loss += loss.item()\n",
        "            _, predicted = torch.max(outputs, 1)\n",
        "            correct += (predicted == targets).sum().item()\n",
        "            total += targets.size(0)\n",
        "    accuracy = correct / total\n",
        "    print(f\"Validation Loss: {total_loss / len(dev_dataloader)}, Accuracy: {accuracy}\")"
      ]
    },
    {
      "cell_type": "code",
      "execution_count": null,
      "metadata": {
        "id": "KDrCauDcwW2A"
      },
      "outputs": [],
      "source": [
        "\n",
        "\n",
        "input_dim = embedding_dim * (p + s + 1)  \n",
        "hidden_dim = 512\n",
        "hidden_dim2 = 128\n",
        "output_dim = len(tag_to_ix) \n",
        "\n",
        "model = FFN_POS_Tagger(input_dim, hidden_dim, hidden_dim2, output_dim, activation='ReLU').to(device)\n",
        "criterion = nn.CrossEntropyLoss()\n",
        "optimizer = optim.Adam(model.parameters(), lr=0.001)"
      ]
    },
    {
      "cell_type": "code",
      "execution_count": null,
      "metadata": {
        "colab": {
          "base_uri": "https://localhost:8080/"
        },
        "id": "OAdLaUB8wYkn",
        "outputId": "f648383b-230e-4e4a-8557-0522cc07aa7d"
      },
      "outputs": [
        {
          "name": "stderr",
          "output_type": "stream",
          "text": [
            "Epoch 1/10: 100%|██████████| 1750/1750 [00:33<00:00, 52.15batch/s]\n"
          ]
        },
        {
          "name": "stdout",
          "output_type": "stream",
          "text": [
            "Epoch 1/10, Loss: 0.14401218783286665\n"
          ]
        },
        {
          "name": "stderr",
          "output_type": "stream",
          "text": [
            "Evaluation: 100%|██████████| 238/238 [00:00<00:00, 306.79batch/s]\n"
          ]
        },
        {
          "name": "stdout",
          "output_type": "stream",
          "text": [
            "Validation Loss: 0.08111529218760796, Accuracy: 0.975388260068439\n"
          ]
        },
        {
          "name": "stderr",
          "output_type": "stream",
          "text": [
            "Epoch 2/10: 100%|██████████| 1750/1750 [00:35<00:00, 49.94batch/s]\n"
          ]
        },
        {
          "name": "stdout",
          "output_type": "stream",
          "text": [
            "Epoch 2/10, Loss: 0.05989847131041876\n"
          ]
        },
        {
          "name": "stderr",
          "output_type": "stream",
          "text": [
            "Evaluation: 100%|██████████| 238/238 [00:00<00:00, 315.02batch/s]\n"
          ]
        },
        {
          "name": "stdout",
          "output_type": "stream",
          "text": [
            "Validation Loss: 0.07392070347312622, Accuracy: 0.9807844169518294\n"
          ]
        },
        {
          "name": "stderr",
          "output_type": "stream",
          "text": [
            "Epoch 3/10: 100%|██████████| 1750/1750 [00:34<00:00, 50.73batch/s]\n"
          ]
        },
        {
          "name": "stdout",
          "output_type": "stream",
          "text": [
            "Epoch 3/10, Loss: 0.0496020943989549\n"
          ]
        },
        {
          "name": "stderr",
          "output_type": "stream",
          "text": [
            "Evaluation: 100%|██████████| 238/238 [00:00<00:00, 288.93batch/s]\n"
          ]
        },
        {
          "name": "stdout",
          "output_type": "stream",
          "text": [
            "Validation Loss: 0.07256923521776071, Accuracy: 0.9847328244274809\n"
          ]
        },
        {
          "name": "stderr",
          "output_type": "stream",
          "text": [
            "Epoch 4/10: 100%|██████████| 1750/1750 [00:32<00:00, 53.50batch/s]\n"
          ]
        },
        {
          "name": "stdout",
          "output_type": "stream",
          "text": [
            "Epoch 4/10, Loss: 0.04412760300981712\n"
          ]
        },
        {
          "name": "stderr",
          "output_type": "stream",
          "text": [
            "Evaluation: 100%|██████████| 238/238 [00:00<00:00, 292.99batch/s]\n"
          ]
        },
        {
          "name": "stdout",
          "output_type": "stream",
          "text": [
            "Validation Loss: 0.06799179509449887, Accuracy: 0.9847328244274809\n"
          ]
        },
        {
          "name": "stderr",
          "output_type": "stream",
          "text": [
            "Epoch 5/10: 100%|██████████| 1750/1750 [00:34<00:00, 51.16batch/s]\n"
          ]
        },
        {
          "name": "stdout",
          "output_type": "stream",
          "text": [
            "Epoch 5/10, Loss: 0.0394761937586757\n"
          ]
        },
        {
          "name": "stderr",
          "output_type": "stream",
          "text": [
            "Evaluation: 100%|██████████| 238/238 [00:00<00:00, 296.27batch/s]\n"
          ]
        },
        {
          "name": "stdout",
          "output_type": "stream",
          "text": [
            "Validation Loss: 0.08705036710769094, Accuracy: 0.9776256909713082\n"
          ]
        },
        {
          "name": "stderr",
          "output_type": "stream",
          "text": [
            "Epoch 6/10: 100%|██████████| 1750/1750 [00:33<00:00, 51.77batch/s]\n"
          ]
        },
        {
          "name": "stdout",
          "output_type": "stream",
          "text": [
            "Epoch 6/10, Loss: 0.038313363622487356\n"
          ]
        },
        {
          "name": "stderr",
          "output_type": "stream",
          "text": [
            "Evaluation: 100%|██████████| 238/238 [00:00<00:00, 308.42batch/s]\n"
          ]
        },
        {
          "name": "stdout",
          "output_type": "stream",
          "text": [
            "Validation Loss: 0.07093862308876943, Accuracy: 0.9813108712819163\n"
          ]
        },
        {
          "name": "stderr",
          "output_type": "stream",
          "text": [
            "Epoch 7/10: 100%|██████████| 1750/1750 [00:38<00:00, 46.03batch/s]\n"
          ]
        },
        {
          "name": "stdout",
          "output_type": "stream",
          "text": [
            "Epoch 7/10, Loss: 0.036462224765512606\n"
          ]
        },
        {
          "name": "stderr",
          "output_type": "stream",
          "text": [
            "Evaluation: 100%|██████████| 238/238 [00:00<00:00, 296.54batch/s]\n"
          ]
        },
        {
          "name": "stdout",
          "output_type": "stream",
          "text": [
            "Validation Loss: 0.06696956930198655, Accuracy: 0.9853908923400895\n"
          ]
        },
        {
          "name": "stderr",
          "output_type": "stream",
          "text": [
            "Epoch 8/10: 100%|██████████| 1750/1750 [00:34<00:00, 51.23batch/s]\n"
          ]
        },
        {
          "name": "stdout",
          "output_type": "stream",
          "text": [
            "Epoch 8/10, Loss: 0.03327296094100243\n"
          ]
        },
        {
          "name": "stderr",
          "output_type": "stream",
          "text": [
            "Evaluation: 100%|██████████| 238/238 [00:00<00:00, 322.16batch/s]\n"
          ]
        },
        {
          "name": "stdout",
          "output_type": "stream",
          "text": [
            "Validation Loss: 0.07677283440150041, Accuracy: 0.9853908923400895\n"
          ]
        },
        {
          "name": "stderr",
          "output_type": "stream",
          "text": [
            "Epoch 9/10: 100%|██████████| 1750/1750 [00:33<00:00, 53.03batch/s]\n"
          ]
        },
        {
          "name": "stdout",
          "output_type": "stream",
          "text": [
            "Epoch 9/10, Loss: 0.03395058430178103\n"
          ]
        },
        {
          "name": "stderr",
          "output_type": "stream",
          "text": [
            "Evaluation: 100%|██████████| 238/238 [00:00<00:00, 261.82batch/s]\n"
          ]
        },
        {
          "name": "stdout",
          "output_type": "stream",
          "text": [
            "Validation Loss: 0.07869064228781555, Accuracy: 0.9838115293498289\n"
          ]
        },
        {
          "name": "stderr",
          "output_type": "stream",
          "text": [
            "Epoch 10/10: 100%|██████████| 1750/1750 [00:33<00:00, 51.85batch/s]\n"
          ]
        },
        {
          "name": "stdout",
          "output_type": "stream",
          "text": [
            "Epoch 10/10, Loss: 0.03384898116816703\n"
          ]
        },
        {
          "name": "stderr",
          "output_type": "stream",
          "text": [
            "Evaluation: 100%|██████████| 238/238 [00:00<00:00, 311.44batch/s]"
          ]
        },
        {
          "name": "stdout",
          "output_type": "stream",
          "text": [
            "Validation Loss: 0.08117378560669909, Accuracy: 0.9831534614372203\n"
          ]
        },
        {
          "name": "stderr",
          "output_type": "stream",
          "text": [
            "\n"
          ]
        }
      ],
      "source": [
        "# Train the model\n",
        "\n",
        "train(model, train_dataloader, dev_dataloader, criterion, optimizer, device)"
      ]
    },
    {
      "cell_type": "code",
      "execution_count": null,
      "metadata": {
        "colab": {
          "base_uri": "https://localhost:8080/"
        },
        "id": "diHYlzI5zOMX",
        "outputId": "e2d07d7c-e418-4900-febe-d2f67f81c05c"
      },
      "outputs": [
        {
          "name": "stdout",
          "output_type": "stream",
          "text": [
            "Dev Set Accuracy: 0.9831534614372203\n",
            "[0.9653856277967886, 0.9847328244274809, 0.9828902342721769, 0.9780205317188734, 0.9774940773887866, 0.9831534614372203]\n"
          ]
        }
      ],
      "source": [
        "def calculate_accuracy_ffnn(model, dataloader, device):\n",
        "    model.eval()\n",
        "    correct = 0\n",
        "    total = 0\n",
        "    with torch.no_grad():\n",
        "        for inputs, targets in dataloader:\n",
        "            inputs, targets = inputs.to(device), targets.view(-1).to(device)\n",
        "            outputs = model(inputs)\n",
        "            _, predicted = torch.max(outputs, 1)  \n",
        "            correct += (predicted == targets).sum().item()\n",
        "            total += targets.size(0)  \n",
        "    accuracy = correct / total\n",
        "    return accuracy\n",
        "\n",
        "dev_accuracy = calculate_accuracy_ffnn(model, dev_dataloader, device)\n",
        "print(f'Dev Set Accuracy: {dev_accuracy}')\n",
        "\n",
        "dev_accuracies.append(dev_accuracy)\n",
        "\n",
        "print(dev_accuracies)"
      ]
    },
    {
      "cell_type": "markdown",
      "metadata": {
        "id": "OGtdHXiIz1-X"
      },
      "source": [
        "dev_acc\n",
        "* for 0 = 0.9653856277967886\n",
        "* for 1 = 0.9847328244274809\n",
        "* for 2 = 0.9828902342721769\n",
        "* for 3 = 0.9780205317188734\n",
        "* for 4 = 0.9774940773887866\n",
        "* for 3,4 = 0.9792050539615689"
      ]
    },
    {
      "cell_type": "code",
      "execution_count": null,
      "metadata": {
        "colab": {
          "base_uri": "https://localhost:8080/",
          "height": 564
        },
        "id": "_NiW2kScVuu5",
        "outputId": "62aa0b17-7cad-4ef9-980f-914fa3f5a575"
      },
      "outputs": [
        {
          "data": {
            "image/png": "[encoded data removed]",
            "text/plain": [
              "<Figure size 800x600 with 1 Axes>"
            ]
          },
          "metadata": {},
          "output_type": "display_data"
        }
      ],
      "source": [
        "import matplotlib.pyplot as plt\n",
        "\n",
        "context_window_sizes = [0, 1, 2, 3, 4]\n",
        "dev_accuracies = [0.9653856277967886, 0.9847328244274809, 0.9828902342721769, 0.9780205317188734, 0.9774940773887866]\n",
        "\n",
        "# Plot\n",
        "plt.figure(figsize=(8, 6))\n",
        "plt.plot(context_window_sizes, dev_accuracies, marker='o', linestyle='-', color='b')\n",
        "plt.title('Dev Accuracy vs. Context Window Size')\n",
        "plt.xlabel('Context Window Size')\n",
        "plt.ylabel('Dev Accuracy')\n",
        "plt.grid(True)\n",
        "plt.show()\n"
      ]
    },
    {
      "cell_type": "code",
      "execution_count": null,
      "metadata": {
        "id": "GXaT1_32Rr5O"
      },
      "outputs": [],
      "source": [
        "idx_to_tag = {idx: tag for tag, idx in tag_to_ix.items()}\n",
        "idx_to_word = {idx: word for word, idx in word_to_ix.items()}\n"
      ]
    },
    {
      "cell_type": "code",
      "execution_count": null,
      "metadata": {
        "colab": {
          "base_uri": "https://localhost:8080/"
        },
        "id": "lMDUsI-Uzfov",
        "outputId": "e1e5b7f1-5ba6-41d0-a7ca-6c3f55e62b6f"
      },
      "outputs": [
        {
          "name": "stderr",
          "output_type": "stream",
          "text": [
            "Testing: 100%|██████████| 237/237 [00:00<00:00, 277.12batch/s]"
          ]
        },
        {
          "name": "stdout",
          "output_type": "stream",
          "text": [
            "Test Loss: 0.055713124997416, Accuracy: 0.9882446176198653\n",
            "[0.9882446176198653]\n"
          ]
        },
        {
          "name": "stderr",
          "output_type": "stream",
          "text": [
            "\n"
          ]
        }
      ],
      "source": [
        "def test(model, test_loader, criterion, device):\n",
        "    model.eval()\n",
        "    total_loss = 0.0\n",
        "    correct = 0\n",
        "    total = 0\n",
        "    target_tags=[]\n",
        "    predicted_tags=[]\n",
        "    with torch.no_grad():\n",
        "        for inputs, targets in tqdm(test_loader, desc=\"Testing\", unit=\"batch\"):\n",
        "            inputs, targets = inputs.to(device), targets.to(device)\n",
        "            outputs = model(inputs)\n",
        "            loss = criterion(outputs, targets)\n",
        "            total_loss += loss.item()\n",
        "            _, predicted = torch.max(outputs, 1)\n",
        "            # print(f'target:{targets}')\n",
        "            # for target in targets:\n",
        "            #   target_tags.append(idx_to_tag(target))\n",
        "            # print(f' predicted: {predicted}')\n",
        "            # for predict in predicted:\n",
        "            #   predicted_tags.append(idx_to_tag(predict))\n",
        "            # print()\n",
        "            correct += (predicted == targets).sum().item()\n",
        "            total += targets.size(0)\n",
        "\n",
        "    accuracy = correct / total\n",
        "    print(f\"Test Loss: {total_loss / len(test_loader)}, Accuracy: {accuracy}\")\n",
        "    return accuracy\n",
        "\n",
        "dataset_test = POSDataset(test_sentences, test_pos_tags, word_to_ix, tag_to_ix, p, s, embedding_matrix = embedding_matrix)\n",
        "test_dataloader = DataLoader(dataset_test, batch_size=32, shuffle=False, collate_fn=collate_batch)\n",
        "\n",
        "test_acc = test(model, test_dataloader, criterion, device)\n",
        "test_accuracies.append(test_acc)\n",
        "print(test_accuracies)\n"
      ]
    },
    {
      "cell_type": "markdown",
      "metadata": {
        "id": "z5R14lIS4eyU"
      },
      "source": [
        "test_accuracy\n",
        "* for 0, 0.9667150970809668\n",
        "* for 1, 0.9891691982565051\n",
        "* for 2, 0.9856029586580373\n",
        "* for 3, 0.9795271430458328\n",
        "* for 4, 0.9829612996962093\n",
        "* for 3,4, 0.983225465592392"
      ]
    },
    {
      "cell_type": "code",
      "execution_count": null,
      "metadata": {
        "colab": {
          "base_uri": "https://localhost:8080/",
          "height": 487
        },
        "id": "iJd23eAC35wm",
        "outputId": "b3864f4c-e68e-4b05-b70d-02a860e65a3b"
      },
      "outputs": [
        {
          "data": {
            "image/png": "[encoded data removed]",
            "text/plain": [
              "<Figure size 800x500 with 1 Axes>"
            ]
          },
          "metadata": {},
          "output_type": "display_data"
        }
      ],
      "source": [
        "import matplotlib.pyplot as plt\n",
        "\n",
        "\n",
        "context_window_values = [1, 2, 3, 4]\n",
        "test_accuracies = [0.9891691982565051, 0.9856029586580373, 0.9795271430458328, 0.9829612996962093]\n",
        "\n",
        "plt.figure(figsize=(8, 5))\n",
        "plt.plot(context_window_values, test_accuracies, marker='o', linestyle='-')\n",
        "plt.title('Test Accuracy vs Context Window Values')\n",
        "plt.xlabel('Context Window Values')\n",
        "plt.ylabel('Test Accuracy')\n",
        "plt.grid(True)\n",
        "plt.xticks(context_window_values)  \n",
        "plt.show()"
      ]
    },
    {
      "cell_type": "code",
      "execution_count": null,
      "metadata": {
        "colab": {
          "base_uri": "https://localhost:8080/"
        },
        "id": "R6bxkzmOltBk",
        "outputId": "561d46dd-7be4-4c2b-fcb2-e52fbb4e43ce"
      },
      "outputs": [
        {
          "name": "stdout",
          "output_type": "stream",
          "text": [
            "Training model with embedding_dim=100, hidden_dim1=512, hidden_dim2=128, activation=ReLU\n"
          ]
        },
        {
          "name": "stderr",
          "output_type": "stream",
          "text": [
            "Epoch 1/10: 100%|██████████| 1750/1750 [00:38<00:00, 45.54batch/s]\n"
          ]
        },
        {
          "name": "stdout",
          "output_type": "stream",
          "text": [
            "Epoch 1/10, Loss: 0.1401735265893928\n"
          ]
        },
        {
          "name": "stderr",
          "output_type": "stream",
          "text": [
            "Evaluation: 100%|██████████| 238/238 [00:00<00:00, 309.32batch/s]\n"
          ]
        },
        {
          "name": "stdout",
          "output_type": "stream",
          "text": [
            "Validation Loss: 0.07155412154740795, Accuracy: 0.9743353514082653\n"
          ]
        },
        {
          "name": "stderr",
          "output_type": "stream",
          "text": [
            "Epoch 2/10: 100%|██████████| 1750/1750 [00:33<00:00, 51.70batch/s]\n"
          ]
        },
        {
          "name": "stdout",
          "output_type": "stream",
          "text": [
            "Epoch 2/10, Loss: 0.0588116523924317\n"
          ]
        },
        {
          "name": "stderr",
          "output_type": "stream",
          "text": [
            "Evaluation: 100%|██████████| 238/238 [00:00<00:00, 299.49batch/s]\n"
          ]
        },
        {
          "name": "stdout",
          "output_type": "stream",
          "text": [
            "Validation Loss: 0.06895854919832131, Accuracy: 0.9828902342721769\n"
          ]
        },
        {
          "name": "stderr",
          "output_type": "stream",
          "text": [
            "Epoch 3/10: 100%|██████████| 1750/1750 [00:34<00:00, 50.96batch/s]\n"
          ]
        },
        {
          "name": "stdout",
          "output_type": "stream",
          "text": [
            "Epoch 3/10, Loss: 0.04861113329646676\n"
          ]
        },
        {
          "name": "stderr",
          "output_type": "stream",
          "text": [
            "Evaluation: 100%|██████████| 238/238 [00:00<00:00, 309.91batch/s]\n"
          ]
        },
        {
          "name": "stdout",
          "output_type": "stream",
          "text": [
            "Validation Loss: 0.062218439873129895, Accuracy: 0.9847328244274809\n"
          ]
        },
        {
          "name": "stderr",
          "output_type": "stream",
          "text": [
            "Epoch 4/10: 100%|██████████| 1750/1750 [00:33<00:00, 51.55batch/s]\n"
          ]
        },
        {
          "name": "stdout",
          "output_type": "stream",
          "text": [
            "Epoch 4/10, Loss: 0.043109188539460386\n"
          ]
        },
        {
          "name": "stderr",
          "output_type": "stream",
          "text": [
            "Evaluation: 100%|██████████| 238/238 [00:01<00:00, 177.26batch/s]\n"
          ]
        },
        {
          "name": "stdout",
          "output_type": "stream",
          "text": [
            "Validation Loss: 0.06040189032126578, Accuracy: 0.9834166886022637\n"
          ]
        },
        {
          "name": "stderr",
          "output_type": "stream",
          "text": [
            "Epoch 5/10: 100%|██████████| 1750/1750 [00:32<00:00, 53.51batch/s]\n"
          ]
        },
        {
          "name": "stdout",
          "output_type": "stream",
          "text": [
            "Epoch 5/10, Loss: 0.04070335324900017\n"
          ]
        },
        {
          "name": "stderr",
          "output_type": "stream",
          "text": [
            "Evaluation: 100%|██████████| 238/238 [00:00<00:00, 306.35batch/s]\n"
          ]
        },
        {
          "name": "stdout",
          "output_type": "stream",
          "text": [
            "Validation Loss: 0.0734781965903731, Accuracy: 0.983285075019742\n"
          ]
        },
        {
          "name": "stderr",
          "output_type": "stream",
          "text": [
            "Epoch 6/10: 100%|██████████| 1750/1750 [00:33<00:00, 52.19batch/s]\n"
          ]
        },
        {
          "name": "stdout",
          "output_type": "stream",
          "text": [
            "Epoch 6/10, Loss: 0.03669150788418639\n"
          ]
        },
        {
          "name": "stderr",
          "output_type": "stream",
          "text": [
            "Evaluation: 100%|██████████| 238/238 [00:00<00:00, 294.23batch/s]\n"
          ]
        },
        {
          "name": "stdout",
          "output_type": "stream",
          "text": [
            "Validation Loss: 0.07228239517057429, Accuracy: 0.983285075019742\n"
          ]
        },
        {
          "name": "stderr",
          "output_type": "stream",
          "text": [
            "Epoch 7/10: 100%|██████████| 1750/1750 [00:33<00:00, 52.38batch/s]\n"
          ]
        },
        {
          "name": "stdout",
          "output_type": "stream",
          "text": [
            "Epoch 7/10, Loss: 0.036011651901820936\n"
          ]
        },
        {
          "name": "stderr",
          "output_type": "stream",
          "text": [
            "Evaluation: 100%|██████████| 238/238 [00:00<00:00, 313.03batch/s]\n"
          ]
        },
        {
          "name": "stdout",
          "output_type": "stream",
          "text": [
            "Validation Loss: 0.06849566578878258, Accuracy: 0.9838115293498289\n"
          ]
        },
        {
          "name": "stderr",
          "output_type": "stream",
          "text": [
            "Epoch 8/10: 100%|██████████| 1750/1750 [00:35<00:00, 49.73batch/s]\n"
          ]
        },
        {
          "name": "stdout",
          "output_type": "stream",
          "text": [
            "Epoch 8/10, Loss: 0.03400401158779252\n"
          ]
        },
        {
          "name": "stderr",
          "output_type": "stream",
          "text": [
            "Evaluation: 100%|██████████| 238/238 [00:01<00:00, 180.36batch/s]\n"
          ]
        },
        {
          "name": "stdout",
          "output_type": "stream",
          "text": [
            "Validation Loss: 0.06886729910093936, Accuracy: 0.9840747565148723\n"
          ]
        },
        {
          "name": "stderr",
          "output_type": "stream",
          "text": [
            "Epoch 9/10: 100%|██████████| 1750/1750 [00:36<00:00, 47.42batch/s]\n"
          ]
        },
        {
          "name": "stdout",
          "output_type": "stream",
          "text": [
            "Epoch 9/10, Loss: 0.03323426528656114\n"
          ]
        },
        {
          "name": "stderr",
          "output_type": "stream",
          "text": [
            "Evaluation: 100%|██████████| 238/238 [00:00<00:00, 240.37batch/s]\n"
          ]
        },
        {
          "name": "stdout",
          "output_type": "stream",
          "text": [
            "Validation Loss: 0.07655733140480328, Accuracy: 0.9855225059226113\n"
          ]
        },
        {
          "name": "stderr",
          "output_type": "stream",
          "text": [
            "Epoch 10/10: 100%|██████████| 1750/1750 [00:37<00:00, 46.12batch/s]\n"
          ]
        },
        {
          "name": "stdout",
          "output_type": "stream",
          "text": [
            "Epoch 10/10, Loss: 0.03174509912168849\n"
          ]
        },
        {
          "name": "stderr",
          "output_type": "stream",
          "text": [
            "Evaluation: 100%|██████████| 238/238 [00:01<00:00, 191.53batch/s]\n"
          ]
        },
        {
          "name": "stdout",
          "output_type": "stream",
          "text": [
            "Validation Loss: 0.07899428485003378, Accuracy: 0.9843379836799158\n"
          ]
        },
        {
          "name": "stderr",
          "output_type": "stream",
          "text": [
            "Testing: 100%|██████████| 237/237 [00:02<00:00, 106.93batch/s]\n"
          ]
        },
        {
          "name": "stdout",
          "output_type": "stream",
          "text": [
            "Test Loss: 0.05641510935799391, Accuracy: 0.9857350416061287\n",
            "Training model with embedding_dim=100, hidden_dim1=512, hidden_dim2=128, activation=Tanh\n"
          ]
        },
        {
          "name": "stderr",
          "output_type": "stream",
          "text": [
            "Epoch 1/10: 100%|██████████| 1750/1750 [00:34<00:00, 51.10batch/s]\n"
          ]
        },
        {
          "name": "stdout",
          "output_type": "stream",
          "text": [
            "Epoch 1/10, Loss: 0.13930828757564137\n"
          ]
        },
        {
          "name": "stderr",
          "output_type": "stream",
          "text": [
            "Evaluation: 100%|██████████| 238/238 [00:00<00:00, 304.80batch/s]\n"
          ]
        },
        {
          "name": "stdout",
          "output_type": "stream",
          "text": [
            "Validation Loss: 0.0811541184744829, Accuracy: 0.9677546722821795\n"
          ]
        },
        {
          "name": "stderr",
          "output_type": "stream",
          "text": [
            "Epoch 2/10: 100%|██████████| 1750/1750 [00:32<00:00, 53.84batch/s]\n"
          ]
        },
        {
          "name": "stdout",
          "output_type": "stream",
          "text": [
            "Epoch 2/10, Loss: 0.0636599609284063\n"
          ]
        },
        {
          "name": "stderr",
          "output_type": "stream",
          "text": [
            "Evaluation: 100%|██████████| 238/238 [00:00<00:00, 297.19batch/s]\n"
          ]
        },
        {
          "name": "stdout",
          "output_type": "stream",
          "text": [
            "Validation Loss: 0.07523868871537749, Accuracy: 0.9747301921558305\n"
          ]
        },
        {
          "name": "stderr",
          "output_type": "stream",
          "text": [
            "Epoch 3/10: 100%|██████████| 1750/1750 [00:34<00:00, 50.23batch/s]\n"
          ]
        },
        {
          "name": "stdout",
          "output_type": "stream",
          "text": [
            "Epoch 3/10, Loss: 0.05460806354504478\n"
          ]
        },
        {
          "name": "stderr",
          "output_type": "stream",
          "text": [
            "Evaluation: 100%|██████████| 238/238 [00:00<00:00, 298.30batch/s]\n"
          ]
        },
        {
          "name": "stdout",
          "output_type": "stream",
          "text": [
            "Validation Loss: 0.057679400355956215, Accuracy: 0.98236377994209\n"
          ]
        },
        {
          "name": "stderr",
          "output_type": "stream",
          "text": [
            "Epoch 4/10: 100%|██████████| 1750/1750 [00:33<00:00, 51.91batch/s]\n"
          ]
        },
        {
          "name": "stdout",
          "output_type": "stream",
          "text": [
            "Epoch 4/10, Loss: 0.049161729519338615\n"
          ]
        },
        {
          "name": "stderr",
          "output_type": "stream",
          "text": [
            "Evaluation: 100%|██████████| 238/238 [00:00<00:00, 288.00batch/s]\n"
          ]
        },
        {
          "name": "stdout",
          "output_type": "stream",
          "text": [
            "Validation Loss: 0.06586163177080609, Accuracy: 0.9836799157673072\n"
          ]
        },
        {
          "name": "stderr",
          "output_type": "stream",
          "text": [
            "Epoch 5/10: 100%|██████████| 1750/1750 [00:33<00:00, 52.40batch/s]\n"
          ]
        },
        {
          "name": "stdout",
          "output_type": "stream",
          "text": [
            "Epoch 5/10, Loss: 0.04607862487626595\n"
          ]
        },
        {
          "name": "stderr",
          "output_type": "stream",
          "text": [
            "Evaluation: 100%|██████████| 238/238 [00:01<00:00, 230.86batch/s]\n"
          ]
        },
        {
          "name": "stdout",
          "output_type": "stream",
          "text": [
            "Validation Loss: 0.06582811463317548, Accuracy: 0.9828902342721769\n"
          ]
        },
        {
          "name": "stderr",
          "output_type": "stream",
          "text": [
            "Epoch 6/10: 100%|██████████| 1750/1750 [00:32<00:00, 53.90batch/s]\n"
          ]
        },
        {
          "name": "stdout",
          "output_type": "stream",
          "text": [
            "Epoch 6/10, Loss: 0.04481570829204117\n"
          ]
        },
        {
          "name": "stderr",
          "output_type": "stream",
          "text": [
            "Evaluation: 100%|██████████| 238/238 [00:00<00:00, 288.02batch/s]\n"
          ]
        },
        {
          "name": "stdout",
          "output_type": "stream",
          "text": [
            "Validation Loss: 0.06052621133821653, Accuracy: 0.9834166886022637\n"
          ]
        },
        {
          "name": "stderr",
          "output_type": "stream",
          "text": [
            "Epoch 7/10: 100%|██████████| 1750/1750 [00:33<00:00, 52.47batch/s]\n"
          ]
        },
        {
          "name": "stdout",
          "output_type": "stream",
          "text": [
            "Epoch 7/10, Loss: 0.04135155543117019\n"
          ]
        },
        {
          "name": "stderr",
          "output_type": "stream",
          "text": [
            "Evaluation: 100%|██████████| 238/238 [00:00<00:00, 293.15batch/s]\n"
          ]
        },
        {
          "name": "stdout",
          "output_type": "stream",
          "text": [
            "Validation Loss: 0.06574129930558832, Accuracy: 0.9830218478546986\n"
          ]
        },
        {
          "name": "stderr",
          "output_type": "stream",
          "text": [
            "Epoch 8/10: 100%|██████████| 1750/1750 [00:33<00:00, 52.05batch/s]\n"
          ]
        },
        {
          "name": "stdout",
          "output_type": "stream",
          "text": [
            "Epoch 8/10, Loss: 0.039610824616260025\n"
          ]
        },
        {
          "name": "stderr",
          "output_type": "stream",
          "text": [
            "Evaluation: 100%|██████████| 238/238 [00:00<00:00, 303.72batch/s]\n"
          ]
        },
        {
          "name": "stdout",
          "output_type": "stream",
          "text": [
            "Validation Loss: 0.06387674891515371, Accuracy: 0.9824953935246118\n"
          ]
        },
        {
          "name": "stderr",
          "output_type": "stream",
          "text": [
            "Epoch 9/10: 100%|██████████| 1750/1750 [00:32<00:00, 53.33batch/s]\n"
          ]
        },
        {
          "name": "stdout",
          "output_type": "stream",
          "text": [
            "Epoch 9/10, Loss: 0.03832745420607638\n"
          ]
        },
        {
          "name": "stderr",
          "output_type": "stream",
          "text": [
            "Evaluation: 100%|██████████| 238/238 [00:01<00:00, 219.39batch/s]\n"
          ]
        },
        {
          "name": "stdout",
          "output_type": "stream",
          "text": [
            "Validation Loss: 0.06254374979000525, Accuracy: 0.9836799157673072\n"
          ]
        },
        {
          "name": "stderr",
          "output_type": "stream",
          "text": [
            "Epoch 10/10: 100%|██████████| 1750/1750 [00:33<00:00, 52.19batch/s]\n"
          ]
        },
        {
          "name": "stdout",
          "output_type": "stream",
          "text": [
            "Epoch 10/10, Loss: 0.03836099694566552\n"
          ]
        },
        {
          "name": "stderr",
          "output_type": "stream",
          "text": [
            "Evaluation: 100%|██████████| 238/238 [00:00<00:00, 289.90batch/s]\n"
          ]
        },
        {
          "name": "stdout",
          "output_type": "stream",
          "text": [
            "Validation Loss: 0.06095259889428105, Accuracy: 0.9835483021847855\n"
          ]
        },
        {
          "name": "stderr",
          "output_type": "stream",
          "text": [
            "Testing: 100%|██████████| 237/237 [00:00<00:00, 289.40batch/s]\n"
          ]
        },
        {
          "name": "stdout",
          "output_type": "stream",
          "text": [
            "Test Loss: 0.046855786514791706, Accuracy: 0.9895654471007793\n",
            "Training model with embedding_dim=100, hidden_dim1=512, hidden_dim2=64, activation=ReLU\n"
          ]
        },
        {
          "name": "stderr",
          "output_type": "stream",
          "text": [
            "Epoch 1/10: 100%|██████████| 1750/1750 [00:32<00:00, 53.45batch/s]\n"
          ]
        },
        {
          "name": "stdout",
          "output_type": "stream",
          "text": [
            "Epoch 1/10, Loss: 0.15060195452972713\n"
          ]
        },
        {
          "name": "stderr",
          "output_type": "stream",
          "text": [
            "Evaluation: 100%|██████████| 238/238 [00:00<00:00, 287.74batch/s]\n"
          ]
        },
        {
          "name": "stdout",
          "output_type": "stream",
          "text": [
            "Validation Loss: 0.07433800241103329, Accuracy: 0.9801263490392208\n"
          ]
        },
        {
          "name": "stderr",
          "output_type": "stream",
          "text": [
            "Epoch 2/10: 100%|██████████| 1750/1750 [00:33<00:00, 52.68batch/s]\n"
          ]
        },
        {
          "name": "stdout",
          "output_type": "stream",
          "text": [
            "Epoch 2/10, Loss: 0.0595824329926649\n"
          ]
        },
        {
          "name": "stderr",
          "output_type": "stream",
          "text": [
            "Evaluation: 100%|██████████| 238/238 [00:00<00:00, 311.39batch/s]\n"
          ]
        },
        {
          "name": "stdout",
          "output_type": "stream",
          "text": [
            "Validation Loss: 0.06538043155154152, Accuracy: 0.9838115293498289\n"
          ]
        },
        {
          "name": "stderr",
          "output_type": "stream",
          "text": [
            "Epoch 3/10: 100%|██████████| 1750/1750 [00:32<00:00, 54.05batch/s]\n"
          ]
        },
        {
          "name": "stdout",
          "output_type": "stream",
          "text": [
            "Epoch 3/10, Loss: 0.04994706381810829\n"
          ]
        },
        {
          "name": "stderr",
          "output_type": "stream",
          "text": [
            "Evaluation: 100%|██████████| 238/238 [00:00<00:00, 292.86batch/s]\n"
          ]
        },
        {
          "name": "stdout",
          "output_type": "stream",
          "text": [
            "Validation Loss: 0.058626938085779776, Accuracy: 0.9864438010002632\n"
          ]
        },
        {
          "name": "stderr",
          "output_type": "stream",
          "text": [
            "Epoch 4/10: 100%|██████████| 1750/1750 [00:33<00:00, 52.40batch/s]\n"
          ]
        },
        {
          "name": "stdout",
          "output_type": "stream",
          "text": [
            "Epoch 4/10, Loss: 0.04387016113573087\n"
          ]
        },
        {
          "name": "stderr",
          "output_type": "stream",
          "text": [
            "Evaluation: 100%|██████████| 238/238 [00:00<00:00, 315.98batch/s]\n"
          ]
        },
        {
          "name": "stdout",
          "output_type": "stream",
          "text": [
            "Validation Loss: 0.06902372060537017, Accuracy: 0.9827586206896551\n"
          ]
        },
        {
          "name": "stderr",
          "output_type": "stream",
          "text": [
            "Epoch 5/10: 100%|██████████| 1750/1750 [00:33<00:00, 52.56batch/s]\n"
          ]
        },
        {
          "name": "stdout",
          "output_type": "stream",
          "text": [
            "Epoch 5/10, Loss: 0.039445771773045375\n"
          ]
        },
        {
          "name": "stderr",
          "output_type": "stream",
          "text": [
            "Evaluation: 100%|██████████| 238/238 [00:00<00:00, 309.68batch/s]\n"
          ]
        },
        {
          "name": "stdout",
          "output_type": "stream",
          "text": [
            "Validation Loss: 0.06226037820753096, Accuracy: 0.986575414582785\n"
          ]
        },
        {
          "name": "stderr",
          "output_type": "stream",
          "text": [
            "Epoch 6/10: 100%|██████████| 1750/1750 [00:32<00:00, 54.05batch/s]\n"
          ]
        },
        {
          "name": "stdout",
          "output_type": "stream",
          "text": [
            "Epoch 6/10, Loss: 0.03840793947795386\n"
          ]
        },
        {
          "name": "stderr",
          "output_type": "stream",
          "text": [
            "Evaluation: 100%|██████████| 238/238 [00:00<00:00, 288.66batch/s]\n"
          ]
        },
        {
          "name": "stdout",
          "output_type": "stream",
          "text": [
            "Validation Loss: 0.10317776779568497, Accuracy: 0.9776256909713082\n"
          ]
        },
        {
          "name": "stderr",
          "output_type": "stream",
          "text": [
            "Epoch 7/10: 100%|██████████| 1750/1750 [00:33<00:00, 52.13batch/s]\n"
          ]
        },
        {
          "name": "stdout",
          "output_type": "stream",
          "text": [
            "Epoch 7/10, Loss: 0.03617423056890818\n"
          ]
        },
        {
          "name": "stderr",
          "output_type": "stream",
          "text": [
            "Evaluation: 100%|██████████| 238/238 [00:00<00:00, 297.36batch/s]\n"
          ]
        },
        {
          "name": "stdout",
          "output_type": "stream",
          "text": [
            "Validation Loss: 0.07499317802536526, Accuracy: 0.983285075019742\n"
          ]
        },
        {
          "name": "stderr",
          "output_type": "stream",
          "text": [
            "Epoch 8/10: 100%|██████████| 1750/1750 [00:33<00:00, 52.57batch/s]\n"
          ]
        },
        {
          "name": "stdout",
          "output_type": "stream",
          "text": [
            "Epoch 8/10, Loss: 0.03332841601194481\n"
          ]
        },
        {
          "name": "stderr",
          "output_type": "stream",
          "text": [
            "Evaluation: 100%|██████████| 238/238 [00:00<00:00, 286.79batch/s]\n"
          ]
        },
        {
          "name": "stdout",
          "output_type": "stream",
          "text": [
            "Validation Loss: 0.06975781394293099, Accuracy: 0.9835483021847855\n"
          ]
        },
        {
          "name": "stderr",
          "output_type": "stream",
          "text": [
            "Epoch 9/10: 100%|██████████| 1750/1750 [00:32<00:00, 53.67batch/s]\n"
          ]
        },
        {
          "name": "stdout",
          "output_type": "stream",
          "text": [
            "Epoch 9/10, Loss: 0.03375830224748539\n"
          ]
        },
        {
          "name": "stderr",
          "output_type": "stream",
          "text": [
            "Evaluation: 100%|██████████| 238/238 [00:01<00:00, 180.70batch/s]\n"
          ]
        },
        {
          "name": "stdout",
          "output_type": "stream",
          "text": [
            "Validation Loss: 0.0740168265694254, Accuracy: 0.9856541195051329\n"
          ]
        },
        {
          "name": "stderr",
          "output_type": "stream",
          "text": [
            "Epoch 10/10: 100%|██████████| 1750/1750 [00:33<00:00, 52.83batch/s]\n"
          ]
        },
        {
          "name": "stdout",
          "output_type": "stream",
          "text": [
            "Epoch 10/10, Loss: 0.03055052004359355\n"
          ]
        },
        {
          "name": "stderr",
          "output_type": "stream",
          "text": [
            "Evaluation: 100%|██████████| 238/238 [00:00<00:00, 287.21batch/s]\n"
          ]
        },
        {
          "name": "stdout",
          "output_type": "stream",
          "text": [
            "Validation Loss: 0.0754151422213301, Accuracy: 0.9852592787575678\n"
          ]
        },
        {
          "name": "stderr",
          "output_type": "stream",
          "text": [
            "Testing: 100%|██████████| 237/237 [00:00<00:00, 305.35batch/s]\n"
          ]
        },
        {
          "name": "stdout",
          "output_type": "stream",
          "text": [
            "Test Loss: 0.05153630785120385, Accuracy: 0.9879804517236824\n",
            "Training model with embedding_dim=100, hidden_dim1=512, hidden_dim2=64, activation=Tanh\n"
          ]
        },
        {
          "name": "stderr",
          "output_type": "stream",
          "text": [
            "Epoch 1/10: 100%|██████████| 1750/1750 [00:34<00:00, 51.37batch/s]\n"
          ]
        },
        {
          "name": "stdout",
          "output_type": "stream",
          "text": [
            "Epoch 1/10, Loss: 0.1466621619768973\n"
          ]
        },
        {
          "name": "stderr",
          "output_type": "stream",
          "text": [
            "Evaluation: 100%|██████████| 238/238 [00:00<00:00, 284.70batch/s]\n"
          ]
        },
        {
          "name": "stdout",
          "output_type": "stream",
          "text": [
            "Validation Loss: 0.0737038592173534, Accuracy: 0.9799947354566991\n"
          ]
        },
        {
          "name": "stderr",
          "output_type": "stream",
          "text": [
            "Epoch 2/10: 100%|██████████| 1750/1750 [00:33<00:00, 52.02batch/s]\n"
          ]
        },
        {
          "name": "stdout",
          "output_type": "stream",
          "text": [
            "Epoch 2/10, Loss: 0.06376346977241337\n"
          ]
        },
        {
          "name": "stderr",
          "output_type": "stream",
          "text": [
            "Evaluation: 100%|██████████| 238/238 [00:00<00:00, 285.23batch/s]\n"
          ]
        },
        {
          "name": "stdout",
          "output_type": "stream",
          "text": [
            "Validation Loss: 0.061408050311338, Accuracy: 0.9828902342721769\n"
          ]
        },
        {
          "name": "stderr",
          "output_type": "stream",
          "text": [
            "Epoch 3/10: 100%|██████████| 1750/1750 [00:31<00:00, 55.07batch/s]\n"
          ]
        },
        {
          "name": "stdout",
          "output_type": "stream",
          "text": [
            "Epoch 3/10, Loss: 0.05381740341718042\n"
          ]
        },
        {
          "name": "stderr",
          "output_type": "stream",
          "text": [
            "Evaluation: 100%|██████████| 238/238 [00:00<00:00, 244.15batch/s]\n"
          ]
        },
        {
          "name": "stdout",
          "output_type": "stream",
          "text": [
            "Validation Loss: 0.06667792982558285, Accuracy: 0.9819689391945249\n"
          ]
        },
        {
          "name": "stderr",
          "output_type": "stream",
          "text": [
            "Epoch 4/10: 100%|██████████| 1750/1750 [00:33<00:00, 52.71batch/s]\n"
          ]
        },
        {
          "name": "stdout",
          "output_type": "stream",
          "text": [
            "Epoch 4/10, Loss: 0.049722999691780255\n"
          ]
        },
        {
          "name": "stderr",
          "output_type": "stream",
          "text": [
            "Evaluation: 100%|██████████| 238/238 [00:00<00:00, 314.91batch/s]\n"
          ]
        },
        {
          "name": "stdout",
          "output_type": "stream",
          "text": [
            "Validation Loss: 0.06497924680407785, Accuracy: 0.9824953935246118\n"
          ]
        },
        {
          "name": "stderr",
          "output_type": "stream",
          "text": [
            "Epoch 5/10: 100%|██████████| 1750/1750 [00:33<00:00, 52.16batch/s]\n"
          ]
        },
        {
          "name": "stdout",
          "output_type": "stream",
          "text": [
            "Epoch 5/10, Loss: 0.04671587590607149\n"
          ]
        },
        {
          "name": "stderr",
          "output_type": "stream",
          "text": [
            "Evaluation: 100%|██████████| 238/238 [00:00<00:00, 283.15batch/s]\n"
          ]
        },
        {
          "name": "stdout",
          "output_type": "stream",
          "text": [
            "Validation Loss: 0.06003091353377691, Accuracy: 0.98236377994209\n"
          ]
        },
        {
          "name": "stderr",
          "output_type": "stream",
          "text": [
            "Epoch 6/10: 100%|██████████| 1750/1750 [00:34<00:00, 51.36batch/s]\n"
          ]
        },
        {
          "name": "stdout",
          "output_type": "stream",
          "text": [
            "Epoch 6/10, Loss: 0.04458977292537124\n"
          ]
        },
        {
          "name": "stderr",
          "output_type": "stream",
          "text": [
            "Evaluation: 100%|██████████| 238/238 [00:00<00:00, 277.99batch/s]\n"
          ]
        },
        {
          "name": "stdout",
          "output_type": "stream",
          "text": [
            "Validation Loss: 0.0573569251456251, Accuracy: 0.9844695972624374\n"
          ]
        },
        {
          "name": "stderr",
          "output_type": "stream",
          "text": [
            "Epoch 7/10: 100%|██████████| 1750/1750 [00:32<00:00, 53.89batch/s]\n"
          ]
        },
        {
          "name": "stdout",
          "output_type": "stream",
          "text": [
            "Epoch 7/10, Loss: 0.04334318945605108\n"
          ]
        },
        {
          "name": "stderr",
          "output_type": "stream",
          "text": [
            "Evaluation: 100%|██████████| 238/238 [00:00<00:00, 261.98batch/s]\n"
          ]
        },
        {
          "name": "stdout",
          "output_type": "stream",
          "text": [
            "Validation Loss: 0.05914795867650684, Accuracy: 0.9819689391945249\n"
          ]
        },
        {
          "name": "stderr",
          "output_type": "stream",
          "text": [
            "Epoch 8/10: 100%|██████████| 1750/1750 [00:33<00:00, 53.00batch/s]\n"
          ]
        },
        {
          "name": "stdout",
          "output_type": "stream",
          "text": [
            "Epoch 8/10, Loss: 0.0403213888492402\n"
          ]
        },
        {
          "name": "stderr",
          "output_type": "stream",
          "text": [
            "Evaluation: 100%|██████████| 238/238 [00:00<00:00, 292.54batch/s]\n"
          ]
        },
        {
          "name": "stdout",
          "output_type": "stream",
          "text": [
            "Validation Loss: 0.06259394751127004, Accuracy: 0.9838115293498289\n"
          ]
        },
        {
          "name": "stderr",
          "output_type": "stream",
          "text": [
            "Epoch 9/10: 100%|██████████| 1750/1750 [00:33<00:00, 52.34batch/s]\n"
          ]
        },
        {
          "name": "stdout",
          "output_type": "stream",
          "text": [
            "Epoch 9/10, Loss: 0.040282930743198705\n"
          ]
        },
        {
          "name": "stderr",
          "output_type": "stream",
          "text": [
            "Evaluation: 100%|██████████| 238/238 [00:00<00:00, 295.17batch/s]\n"
          ]
        },
        {
          "name": "stdout",
          "output_type": "stream",
          "text": [
            "Validation Loss: 0.06202630062224128, Accuracy: 0.9831534614372203\n"
          ]
        },
        {
          "name": "stderr",
          "output_type": "stream",
          "text": [
            "Epoch 10/10: 100%|██████████| 1750/1750 [00:33<00:00, 52.26batch/s]\n"
          ]
        },
        {
          "name": "stdout",
          "output_type": "stream",
          "text": [
            "Epoch 10/10, Loss: 0.03873833587122915\n"
          ]
        },
        {
          "name": "stderr",
          "output_type": "stream",
          "text": [
            "Evaluation: 100%|██████████| 238/238 [00:00<00:00, 301.40batch/s]\n"
          ]
        },
        {
          "name": "stdout",
          "output_type": "stream",
          "text": [
            "Validation Loss: 0.06667733733934064, Accuracy: 0.9824953935246118\n"
          ]
        },
        {
          "name": "stderr",
          "output_type": "stream",
          "text": [
            "Testing: 100%|██████████| 237/237 [00:00<00:00, 294.01batch/s]\n"
          ]
        },
        {
          "name": "stdout",
          "output_type": "stream",
          "text": [
            "Test Loss: 0.04885005419647748, Accuracy: 0.9886408664641395\n",
            "Training model with embedding_dim=100, hidden_dim1=256, hidden_dim2=128, activation=ReLU\n"
          ]
        },
        {
          "name": "stderr",
          "output_type": "stream",
          "text": [
            "Epoch 1/10: 100%|██████████| 1750/1750 [00:30<00:00, 57.01batch/s]\n"
          ]
        },
        {
          "name": "stdout",
          "output_type": "stream",
          "text": [
            "Epoch 1/10, Loss: 0.15648452948665778\n"
          ]
        },
        {
          "name": "stderr",
          "output_type": "stream",
          "text": [
            "Evaluation: 100%|██████████| 238/238 [00:00<00:00, 320.55batch/s]\n"
          ]
        },
        {
          "name": "stdout",
          "output_type": "stream",
          "text": [
            "Validation Loss: 0.06476536691394251, Accuracy: 0.98236377994209\n"
          ]
        },
        {
          "name": "stderr",
          "output_type": "stream",
          "text": [
            "Epoch 2/10: 100%|██████████| 1750/1750 [00:31<00:00, 54.82batch/s]\n"
          ]
        },
        {
          "name": "stdout",
          "output_type": "stream",
          "text": [
            "Epoch 2/10, Loss: 0.06188511379665163\n"
          ]
        },
        {
          "name": "stderr",
          "output_type": "stream",
          "text": [
            "Evaluation: 100%|██████████| 238/238 [00:00<00:00, 294.29batch/s]\n"
          ]
        },
        {
          "name": "stdout",
          "output_type": "stream",
          "text": [
            "Validation Loss: 0.06473364936507761, Accuracy: 0.9821005527770466\n"
          ]
        },
        {
          "name": "stderr",
          "output_type": "stream",
          "text": [
            "Epoch 3/10: 100%|██████████| 1750/1750 [00:32<00:00, 54.13batch/s]\n"
          ]
        },
        {
          "name": "stdout",
          "output_type": "stream",
          "text": [
            "Epoch 3/10, Loss: 0.049580953350648216\n"
          ]
        },
        {
          "name": "stderr",
          "output_type": "stream",
          "text": [
            "Evaluation: 100%|██████████| 238/238 [00:00<00:00, 314.07batch/s]\n"
          ]
        },
        {
          "name": "stdout",
          "output_type": "stream",
          "text": [
            "Validation Loss: 0.07933298839872972, Accuracy: 0.980521189786786\n"
          ]
        },
        {
          "name": "stderr",
          "output_type": "stream",
          "text": [
            "Epoch 4/10: 100%|██████████| 1750/1750 [00:30<00:00, 56.85batch/s]\n"
          ]
        },
        {
          "name": "stdout",
          "output_type": "stream",
          "text": [
            "Epoch 4/10, Loss: 0.044190835871577815\n"
          ]
        },
        {
          "name": "stderr",
          "output_type": "stream",
          "text": [
            "Evaluation: 100%|██████████| 238/238 [00:00<00:00, 319.90batch/s]\n"
          ]
        },
        {
          "name": "stdout",
          "output_type": "stream",
          "text": [
            "Validation Loss: 0.05493997127403326, Accuracy: 0.9849960515925243\n"
          ]
        },
        {
          "name": "stderr",
          "output_type": "stream",
          "text": [
            "Epoch 5/10: 100%|██████████| 1750/1750 [00:31<00:00, 55.07batch/s]\n"
          ]
        },
        {
          "name": "stdout",
          "output_type": "stream",
          "text": [
            "Epoch 5/10, Loss: 0.0403363471728366\n"
          ]
        },
        {
          "name": "stderr",
          "output_type": "stream",
          "text": [
            "Evaluation: 100%|██████████| 238/238 [00:00<00:00, 324.26batch/s]\n"
          ]
        },
        {
          "name": "stdout",
          "output_type": "stream",
          "text": [
            "Validation Loss: 0.06986282598038332, Accuracy: 0.9810476441168728\n"
          ]
        },
        {
          "name": "stderr",
          "output_type": "stream",
          "text": [
            "Epoch 6/10: 100%|██████████| 1750/1750 [00:31<00:00, 56.35batch/s]\n"
          ]
        },
        {
          "name": "stdout",
          "output_type": "stream",
          "text": [
            "Epoch 6/10, Loss: 0.03802213421706983\n"
          ]
        },
        {
          "name": "stderr",
          "output_type": "stream",
          "text": [
            "Evaluation: 100%|██████████| 238/238 [00:01<00:00, 190.01batch/s]\n"
          ]
        },
        {
          "name": "stdout",
          "output_type": "stream",
          "text": [
            "Validation Loss: 0.06400889580266672, Accuracy: 0.9840747565148723\n"
          ]
        },
        {
          "name": "stderr",
          "output_type": "stream",
          "text": [
            "Epoch 7/10: 100%|██████████| 1750/1750 [00:31<00:00, 56.00batch/s]\n"
          ]
        },
        {
          "name": "stdout",
          "output_type": "stream",
          "text": [
            "Epoch 7/10, Loss: 0.03595367078398184\n"
          ]
        },
        {
          "name": "stderr",
          "output_type": "stream",
          "text": [
            "Evaluation: 100%|██████████| 238/238 [00:00<00:00, 305.11batch/s]\n"
          ]
        },
        {
          "name": "stdout",
          "output_type": "stream",
          "text": [
            "Validation Loss: 0.08123525041284718, Accuracy: 0.9806528033693077\n"
          ]
        },
        {
          "name": "stderr",
          "output_type": "stream",
          "text": [
            "Epoch 8/10: 100%|██████████| 1750/1750 [00:31<00:00, 54.92batch/s]\n"
          ]
        },
        {
          "name": "stdout",
          "output_type": "stream",
          "text": [
            "Epoch 8/10, Loss: 0.034816521477112214\n"
          ]
        },
        {
          "name": "stderr",
          "output_type": "stream",
          "text": [
            "Evaluation: 100%|██████████| 238/238 [00:00<00:00, 310.40batch/s]\n"
          ]
        },
        {
          "name": "stdout",
          "output_type": "stream",
          "text": [
            "Validation Loss: 0.0625876569682578, Accuracy: 0.9859173466701764\n"
          ]
        },
        {
          "name": "stderr",
          "output_type": "stream",
          "text": [
            "Epoch 9/10: 100%|██████████| 1750/1750 [00:31<00:00, 56.40batch/s]\n"
          ]
        },
        {
          "name": "stdout",
          "output_type": "stream",
          "text": [
            "Epoch 9/10, Loss: 0.03263891970028713\n"
          ]
        },
        {
          "name": "stderr",
          "output_type": "stream",
          "text": [
            "Evaluation: 100%|██████████| 238/238 [00:00<00:00, 304.04batch/s]\n"
          ]
        },
        {
          "name": "stdout",
          "output_type": "stream",
          "text": [
            "Validation Loss: 0.08081299335564086, Accuracy: 0.9835483021847855\n"
          ]
        },
        {
          "name": "stderr",
          "output_type": "stream",
          "text": [
            "Epoch 10/10: 100%|██████████| 1750/1750 [00:32<00:00, 53.59batch/s]\n"
          ]
        },
        {
          "name": "stdout",
          "output_type": "stream",
          "text": [
            "Epoch 10/10, Loss: 0.0315407737800984\n"
          ]
        },
        {
          "name": "stderr",
          "output_type": "stream",
          "text": [
            "Evaluation: 100%|██████████| 238/238 [00:00<00:00, 311.67batch/s]\n"
          ]
        },
        {
          "name": "stdout",
          "output_type": "stream",
          "text": [
            "Validation Loss: 0.07155111406840461, Accuracy: 0.9842063700973941\n"
          ]
        },
        {
          "name": "stderr",
          "output_type": "stream",
          "text": [
            "Testing: 100%|██████████| 237/237 [00:00<00:00, 308.52batch/s]\n"
          ]
        },
        {
          "name": "stdout",
          "output_type": "stream",
          "text": [
            "Test Loss: 0.04599882841824409, Accuracy: 0.9893012812045965\n",
            "Training model with embedding_dim=100, hidden_dim1=256, hidden_dim2=128, activation=Tanh\n"
          ]
        },
        {
          "name": "stderr",
          "output_type": "stream",
          "text": [
            "Epoch 1/10: 100%|██████████| 1750/1750 [00:36<00:00, 47.98batch/s]\n"
          ]
        },
        {
          "name": "stdout",
          "output_type": "stream",
          "text": [
            "Epoch 1/10, Loss: 0.14857664453284816\n"
          ]
        },
        {
          "name": "stderr",
          "output_type": "stream",
          "text": [
            "Evaluation: 100%|██████████| 238/238 [00:00<00:00, 307.49batch/s]\n"
          ]
        },
        {
          "name": "stdout",
          "output_type": "stream",
          "text": [
            "Validation Loss: 0.07351312115289536, Accuracy: 0.9743353514082653\n"
          ]
        },
        {
          "name": "stderr",
          "output_type": "stream",
          "text": [
            "Epoch 2/10: 100%|██████████| 1750/1750 [00:32<00:00, 54.13batch/s]\n"
          ]
        },
        {
          "name": "stdout",
          "output_type": "stream",
          "text": [
            "Epoch 2/10, Loss: 0.06328856092861056\n"
          ]
        },
        {
          "name": "stderr",
          "output_type": "stream",
          "text": [
            "Evaluation: 100%|██████████| 238/238 [00:00<00:00, 267.89batch/s]\n"
          ]
        },
        {
          "name": "stdout",
          "output_type": "stream",
          "text": [
            "Validation Loss: 0.06330016125389766, Accuracy: 0.9813108712819163\n"
          ]
        },
        {
          "name": "stderr",
          "output_type": "stream",
          "text": [
            "Epoch 3/10: 100%|██████████| 1750/1750 [00:31<00:00, 54.87batch/s]\n"
          ]
        },
        {
          "name": "stdout",
          "output_type": "stream",
          "text": [
            "Epoch 3/10, Loss: 0.05236332565614222\n"
          ]
        },
        {
          "name": "stderr",
          "output_type": "stream",
          "text": [
            "Evaluation: 100%|██████████| 238/238 [00:00<00:00, 317.62batch/s]\n"
          ]
        },
        {
          "name": "stdout",
          "output_type": "stream",
          "text": [
            "Validation Loss: 0.059428140722575185, Accuracy: 0.9813108712819163\n"
          ]
        },
        {
          "name": "stderr",
          "output_type": "stream",
          "text": [
            "Epoch 4/10: 100%|██████████| 1750/1750 [00:32<00:00, 53.66batch/s]\n"
          ]
        },
        {
          "name": "stdout",
          "output_type": "stream",
          "text": [
            "Epoch 4/10, Loss: 0.046157404858128366\n"
          ]
        },
        {
          "name": "stderr",
          "output_type": "stream",
          "text": [
            "Evaluation: 100%|██████████| 238/238 [00:00<00:00, 284.14batch/s]\n"
          ]
        },
        {
          "name": "stdout",
          "output_type": "stream",
          "text": [
            "Validation Loss: 0.05797975414475141, Accuracy: 0.9834166886022637\n"
          ]
        },
        {
          "name": "stderr",
          "output_type": "stream",
          "text": [
            "Epoch 5/10: 100%|██████████| 1750/1750 [00:32<00:00, 54.39batch/s]\n"
          ]
        },
        {
          "name": "stdout",
          "output_type": "stream",
          "text": [
            "Epoch 5/10, Loss: 0.042746767078177074\n"
          ]
        },
        {
          "name": "stderr",
          "output_type": "stream",
          "text": [
            "Evaluation: 100%|██████████| 238/238 [00:00<00:00, 252.22batch/s]\n"
          ]
        },
        {
          "name": "stdout",
          "output_type": "stream",
          "text": [
            "Validation Loss: 0.09334308612358487, Accuracy: 0.9728876020005265\n"
          ]
        },
        {
          "name": "stderr",
          "output_type": "stream",
          "text": [
            "Epoch 6/10: 100%|██████████| 1750/1750 [00:30<00:00, 56.65batch/s]\n"
          ]
        },
        {
          "name": "stdout",
          "output_type": "stream",
          "text": [
            "Epoch 6/10, Loss: 0.04014118804705296\n"
          ]
        },
        {
          "name": "stderr",
          "output_type": "stream",
          "text": [
            "Evaluation: 100%|██████████| 238/238 [00:00<00:00, 318.76batch/s]\n"
          ]
        },
        {
          "name": "stdout",
          "output_type": "stream",
          "text": [
            "Validation Loss: 0.05097891142311312, Accuracy: 0.9855225059226113\n"
          ]
        },
        {
          "name": "stderr",
          "output_type": "stream",
          "text": [
            "Epoch 7/10: 100%|██████████| 1750/1750 [00:32<00:00, 53.90batch/s]\n"
          ]
        },
        {
          "name": "stdout",
          "output_type": "stream",
          "text": [
            "Epoch 7/10, Loss: 0.03845064975357881\n"
          ]
        },
        {
          "name": "stderr",
          "output_type": "stream",
          "text": [
            "Evaluation: 100%|██████████| 238/238 [00:00<00:00, 297.73batch/s]\n"
          ]
        },
        {
          "name": "stdout",
          "output_type": "stream",
          "text": [
            "Validation Loss: 0.057688491459311764, Accuracy: 0.9846012108449592\n"
          ]
        },
        {
          "name": "stderr",
          "output_type": "stream",
          "text": [
            "Epoch 8/10: 100%|██████████| 1750/1750 [00:32<00:00, 54.17batch/s]\n"
          ]
        },
        {
          "name": "stdout",
          "output_type": "stream",
          "text": [
            "Epoch 8/10, Loss: 0.03617900147714785\n"
          ]
        },
        {
          "name": "stderr",
          "output_type": "stream",
          "text": [
            "Evaluation: 100%|██████████| 238/238 [00:01<00:00, 178.10batch/s]\n"
          ]
        },
        {
          "name": "stdout",
          "output_type": "stream",
          "text": [
            "Validation Loss: 0.056389194621497614, Accuracy: 0.9843379836799158\n"
          ]
        },
        {
          "name": "stderr",
          "output_type": "stream",
          "text": [
            "Epoch 9/10: 100%|██████████| 1750/1750 [00:32<00:00, 54.01batch/s]\n"
          ]
        },
        {
          "name": "stdout",
          "output_type": "stream",
          "text": [
            "Epoch 9/10, Loss: 0.034897535893326025\n"
          ]
        },
        {
          "name": "stderr",
          "output_type": "stream",
          "text": [
            "Evaluation: 100%|██████████| 238/238 [00:00<00:00, 270.52batch/s]\n"
          ]
        },
        {
          "name": "stdout",
          "output_type": "stream",
          "text": [
            "Validation Loss: 0.05195979487221588, Accuracy: 0.9849960515925243\n"
          ]
        },
        {
          "name": "stderr",
          "output_type": "stream",
          "text": [
            "Epoch 10/10: 100%|██████████| 1750/1750 [00:32<00:00, 53.22batch/s]\n"
          ]
        },
        {
          "name": "stdout",
          "output_type": "stream",
          "text": [
            "Epoch 10/10, Loss: 0.034108367566289544\n"
          ]
        },
        {
          "name": "stderr",
          "output_type": "stream",
          "text": [
            "Evaluation: 100%|██████████| 238/238 [00:00<00:00, 267.84batch/s]\n"
          ]
        },
        {
          "name": "stdout",
          "output_type": "stream",
          "text": [
            "Validation Loss: 0.05610337938508435, Accuracy: 0.9844695972624374\n"
          ]
        },
        {
          "name": "stderr",
          "output_type": "stream",
          "text": [
            "Testing: 100%|██████████| 237/237 [00:00<00:00, 297.05batch/s]\n"
          ]
        },
        {
          "name": "stdout",
          "output_type": "stream",
          "text": [
            "Test Loss: 0.04086311788239, Accuracy: 0.989829612996962\n",
            "Training model with embedding_dim=100, hidden_dim1=256, hidden_dim2=64, activation=ReLU\n"
          ]
        },
        {
          "name": "stderr",
          "output_type": "stream",
          "text": [
            "Epoch 1/10: 100%|██████████| 1750/1750 [00:32<00:00, 53.67batch/s]\n"
          ]
        },
        {
          "name": "stdout",
          "output_type": "stream",
          "text": [
            "Epoch 1/10, Loss: 0.17346545197468782\n"
          ]
        },
        {
          "name": "stderr",
          "output_type": "stream",
          "text": [
            "Evaluation: 100%|██████████| 238/238 [00:00<00:00, 289.58batch/s]\n"
          ]
        },
        {
          "name": "stdout",
          "output_type": "stream",
          "text": [
            "Validation Loss: 0.06952856710469722, Accuracy: 0.979599894709134\n"
          ]
        },
        {
          "name": "stderr",
          "output_type": "stream",
          "text": [
            "Epoch 2/10: 100%|██████████| 1750/1750 [00:33<00:00, 52.78batch/s]\n"
          ]
        },
        {
          "name": "stdout",
          "output_type": "stream",
          "text": [
            "Epoch 2/10, Loss: 0.06402275352266484\n"
          ]
        },
        {
          "name": "stderr",
          "output_type": "stream",
          "text": [
            "Evaluation: 100%|██████████| 238/238 [00:01<00:00, 161.16batch/s]\n"
          ]
        },
        {
          "name": "stdout",
          "output_type": "stream",
          "text": [
            "Validation Loss: 0.0669404550143317, Accuracy: 0.9826270071071335\n"
          ]
        },
        {
          "name": "stderr",
          "output_type": "stream",
          "text": [
            "Epoch 3/10: 100%|██████████| 1750/1750 [00:32<00:00, 53.75batch/s]\n"
          ]
        },
        {
          "name": "stdout",
          "output_type": "stream",
          "text": [
            "Epoch 3/10, Loss: 0.05075936285123628\n"
          ]
        },
        {
          "name": "stderr",
          "output_type": "stream",
          "text": [
            "Evaluation: 100%|██████████| 238/238 [00:00<00:00, 286.25batch/s]\n"
          ]
        },
        {
          "name": "stdout",
          "output_type": "stream",
          "text": [
            "Validation Loss: 0.06430067922368483, Accuracy: 0.9839431429323506\n"
          ]
        },
        {
          "name": "stderr",
          "output_type": "stream",
          "text": [
            "Epoch 4/10: 100%|██████████| 1750/1750 [00:32<00:00, 53.26batch/s]\n"
          ]
        },
        {
          "name": "stdout",
          "output_type": "stream",
          "text": [
            "Epoch 4/10, Loss: 0.044982200623714434\n"
          ]
        },
        {
          "name": "stderr",
          "output_type": "stream",
          "text": [
            "Evaluation: 100%|██████████| 238/238 [00:00<00:00, 288.51batch/s]\n"
          ]
        },
        {
          "name": "stdout",
          "output_type": "stream",
          "text": [
            "Validation Loss: 0.08519220845152609, Accuracy: 0.9745985785733088\n"
          ]
        },
        {
          "name": "stderr",
          "output_type": "stream",
          "text": [
            "Epoch 5/10: 100%|██████████| 1750/1750 [00:31<00:00, 54.94batch/s]\n"
          ]
        },
        {
          "name": "stdout",
          "output_type": "stream",
          "text": [
            "Epoch 5/10, Loss: 0.041381732454232406\n"
          ]
        },
        {
          "name": "stderr",
          "output_type": "stream",
          "text": [
            "Evaluation: 100%|██████████| 238/238 [00:01<00:00, 181.53batch/s]\n"
          ]
        },
        {
          "name": "stdout",
          "output_type": "stream",
          "text": [
            "Validation Loss: 0.0632949545590022, Accuracy: 0.9843379836799158\n"
          ]
        },
        {
          "name": "stderr",
          "output_type": "stream",
          "text": [
            "Epoch 6/10: 100%|██████████| 1750/1750 [00:31<00:00, 56.26batch/s]\n"
          ]
        },
        {
          "name": "stdout",
          "output_type": "stream",
          "text": [
            "Epoch 6/10, Loss: 0.037460042725992806\n"
          ]
        },
        {
          "name": "stderr",
          "output_type": "stream",
          "text": [
            "Evaluation: 100%|██████████| 238/238 [00:00<00:00, 311.05batch/s]\n"
          ]
        },
        {
          "name": "stdout",
          "output_type": "stream",
          "text": [
            "Validation Loss: 0.06541652974293287, Accuracy: 0.9838115293498289\n"
          ]
        },
        {
          "name": "stderr",
          "output_type": "stream",
          "text": [
            "Epoch 7/10: 100%|██████████| 1750/1750 [00:32<00:00, 54.65batch/s]\n"
          ]
        },
        {
          "name": "stdout",
          "output_type": "stream",
          "text": [
            "Epoch 7/10, Loss: 0.036926144668677545\n"
          ]
        },
        {
          "name": "stderr",
          "output_type": "stream",
          "text": [
            "Evaluation: 100%|██████████| 238/238 [00:00<00:00, 307.55batch/s]\n"
          ]
        },
        {
          "name": "stdout",
          "output_type": "stream",
          "text": [
            "Validation Loss: 0.05752086353758761, Accuracy: 0.985127665175046\n"
          ]
        },
        {
          "name": "stderr",
          "output_type": "stream",
          "text": [
            "Epoch 8/10: 100%|██████████| 1750/1750 [00:30<00:00, 56.57batch/s]\n"
          ]
        },
        {
          "name": "stdout",
          "output_type": "stream",
          "text": [
            "Epoch 8/10, Loss: 0.03423523892034635\n"
          ]
        },
        {
          "name": "stderr",
          "output_type": "stream",
          "text": [
            "Evaluation: 100%|██████████| 238/238 [00:00<00:00, 309.87batch/s]\n"
          ]
        },
        {
          "name": "stdout",
          "output_type": "stream",
          "text": [
            "Validation Loss: 0.07096656437196154, Accuracy: 0.9824953935246118\n"
          ]
        },
        {
          "name": "stderr",
          "output_type": "stream",
          "text": [
            "Epoch 9/10: 100%|██████████| 1750/1750 [00:31<00:00, 55.07batch/s]\n"
          ]
        },
        {
          "name": "stdout",
          "output_type": "stream",
          "text": [
            "Epoch 9/10, Loss: 0.03274174568231943\n"
          ]
        },
        {
          "name": "stderr",
          "output_type": "stream",
          "text": [
            "Evaluation: 100%|██████████| 238/238 [00:00<00:00, 320.12batch/s]\n"
          ]
        },
        {
          "name": "stdout",
          "output_type": "stream",
          "text": [
            "Validation Loss: 0.06546086600957181, Accuracy: 0.9852592787575678\n"
          ]
        },
        {
          "name": "stderr",
          "output_type": "stream",
          "text": [
            "Epoch 10/10: 100%|██████████| 1750/1750 [00:31<00:00, 55.62batch/s]\n"
          ]
        },
        {
          "name": "stdout",
          "output_type": "stream",
          "text": [
            "Epoch 10/10, Loss: 0.03146899061952146\n"
          ]
        },
        {
          "name": "stderr",
          "output_type": "stream",
          "text": [
            "Evaluation: 100%|██████████| 238/238 [00:01<00:00, 204.46batch/s]\n"
          ]
        },
        {
          "name": "stdout",
          "output_type": "stream",
          "text": [
            "Validation Loss: 0.07515414843482857, Accuracy: 0.9848644380100027\n"
          ]
        },
        {
          "name": "stderr",
          "output_type": "stream",
          "text": [
            "Testing: 100%|██████████| 237/237 [00:00<00:00, 307.49batch/s]\n"
          ]
        },
        {
          "name": "stdout",
          "output_type": "stream",
          "text": [
            "Test Loss: 0.048106296872566234, Accuracy: 0.9881125346717738\n",
            "Training model with embedding_dim=100, hidden_dim1=256, hidden_dim2=64, activation=Tanh\n"
          ]
        },
        {
          "name": "stderr",
          "output_type": "stream",
          "text": [
            "Epoch 1/10: 100%|██████████| 1750/1750 [00:31<00:00, 56.18batch/s]\n"
          ]
        },
        {
          "name": "stdout",
          "output_type": "stream",
          "text": [
            "Epoch 1/10, Loss: 0.16416505696571299\n"
          ]
        },
        {
          "name": "stderr",
          "output_type": "stream",
          "text": [
            "Evaluation: 100%|██████████| 238/238 [00:00<00:00, 318.23batch/s]\n"
          ]
        },
        {
          "name": "stdout",
          "output_type": "stream",
          "text": [
            "Validation Loss: 0.07875917137487001, Accuracy: 0.9778889181363517\n"
          ]
        },
        {
          "name": "stderr",
          "output_type": "stream",
          "text": [
            "Epoch 2/10: 100%|██████████| 1750/1750 [00:32<00:00, 54.38batch/s]\n"
          ]
        },
        {
          "name": "stdout",
          "output_type": "stream",
          "text": [
            "Epoch 2/10, Loss: 0.06283289924643136\n"
          ]
        },
        {
          "name": "stderr",
          "output_type": "stream",
          "text": [
            "Evaluation: 100%|██████████| 238/238 [00:00<00:00, 319.04batch/s]\n"
          ]
        },
        {
          "name": "stdout",
          "output_type": "stream",
          "text": [
            "Validation Loss: 0.059415735397047656, Accuracy: 0.9824953935246118\n"
          ]
        },
        {
          "name": "stderr",
          "output_type": "stream",
          "text": [
            "Epoch 3/10: 100%|██████████| 1750/1750 [00:30<00:00, 57.18batch/s]\n"
          ]
        },
        {
          "name": "stdout",
          "output_type": "stream",
          "text": [
            "Epoch 3/10, Loss: 0.05235156167223717\n"
          ]
        },
        {
          "name": "stderr",
          "output_type": "stream",
          "text": [
            "Evaluation: 100%|██████████| 238/238 [00:01<00:00, 169.60batch/s]\n"
          ]
        },
        {
          "name": "stdout",
          "output_type": "stream",
          "text": [
            "Validation Loss: 0.08162760643981605, Accuracy: 0.9734140563306133\n"
          ]
        },
        {
          "name": "stderr",
          "output_type": "stream",
          "text": [
            "Epoch 4/10: 100%|██████████| 1750/1750 [00:31<00:00, 56.07batch/s]\n"
          ]
        },
        {
          "name": "stdout",
          "output_type": "stream",
          "text": [
            "Epoch 4/10, Loss: 0.045354403849458325\n"
          ]
        },
        {
          "name": "stderr",
          "output_type": "stream",
          "text": [
            "Evaluation: 100%|██████████| 238/238 [00:00<00:00, 317.56batch/s]\n"
          ]
        },
        {
          "name": "stdout",
          "output_type": "stream",
          "text": [
            "Validation Loss: 0.05856142102630893, Accuracy: 0.9840747565148723\n"
          ]
        },
        {
          "name": "stderr",
          "output_type": "stream",
          "text": [
            "Epoch 5/10: 100%|██████████| 1750/1750 [00:31<00:00, 54.90batch/s]\n"
          ]
        },
        {
          "name": "stdout",
          "output_type": "stream",
          "text": [
            "Epoch 5/10, Loss: 0.04246757187582885\n"
          ]
        },
        {
          "name": "stderr",
          "output_type": "stream",
          "text": [
            "Evaluation: 100%|██████████| 238/238 [00:00<00:00, 300.39batch/s]\n"
          ]
        },
        {
          "name": "stdout",
          "output_type": "stream",
          "text": [
            "Validation Loss: 0.06059531214899636, Accuracy: 0.983285075019742\n"
          ]
        },
        {
          "name": "stderr",
          "output_type": "stream",
          "text": [
            "Epoch 6/10: 100%|██████████| 1750/1750 [00:31<00:00, 56.40batch/s]\n"
          ]
        },
        {
          "name": "stdout",
          "output_type": "stream",
          "text": [
            "Epoch 6/10, Loss: 0.04026027941104258\n"
          ]
        },
        {
          "name": "stderr",
          "output_type": "stream",
          "text": [
            "Evaluation: 100%|██████████| 238/238 [00:00<00:00, 305.00batch/s]\n"
          ]
        },
        {
          "name": "stdout",
          "output_type": "stream",
          "text": [
            "Validation Loss: 0.055441148227062115, Accuracy: 0.9852592787575678\n"
          ]
        },
        {
          "name": "stderr",
          "output_type": "stream",
          "text": [
            "Epoch 7/10: 100%|██████████| 1750/1750 [00:31<00:00, 55.28batch/s]\n"
          ]
        },
        {
          "name": "stdout",
          "output_type": "stream",
          "text": [
            "Epoch 7/10, Loss: 0.03719732300882294\n"
          ]
        },
        {
          "name": "stderr",
          "output_type": "stream",
          "text": [
            "Evaluation: 100%|██████████| 238/238 [00:00<00:00, 305.51batch/s]\n"
          ]
        },
        {
          "name": "stdout",
          "output_type": "stream",
          "text": [
            "Validation Loss: 0.060717862196075396, Accuracy: 0.9836799157673072\n"
          ]
        },
        {
          "name": "stderr",
          "output_type": "stream",
          "text": [
            "Epoch 8/10: 100%|██████████| 1750/1750 [00:30<00:00, 57.07batch/s]\n"
          ]
        },
        {
          "name": "stdout",
          "output_type": "stream",
          "text": [
            "Epoch 8/10, Loss: 0.03663464226002439\n"
          ]
        },
        {
          "name": "stderr",
          "output_type": "stream",
          "text": [
            "Evaluation: 100%|██████████| 238/238 [00:01<00:00, 198.35batch/s]\n"
          ]
        },
        {
          "name": "stdout",
          "output_type": "stream",
          "text": [
            "Validation Loss: 0.0607086839665514, Accuracy: 0.9827586206896551\n"
          ]
        },
        {
          "name": "stderr",
          "output_type": "stream",
          "text": [
            "Epoch 9/10: 100%|██████████| 1750/1750 [00:31<00:00, 55.78batch/s]\n"
          ]
        },
        {
          "name": "stdout",
          "output_type": "stream",
          "text": [
            "Epoch 9/10, Loss: 0.034985026594197347\n"
          ]
        },
        {
          "name": "stderr",
          "output_type": "stream",
          "text": [
            "Evaluation: 100%|██████████| 238/238 [00:00<00:00, 295.30batch/s]\n"
          ]
        },
        {
          "name": "stdout",
          "output_type": "stream",
          "text": [
            "Validation Loss: 0.0607484983882677, Accuracy: 0.9848644380100027\n"
          ]
        },
        {
          "name": "stderr",
          "output_type": "stream",
          "text": [
            "Epoch 10/10: 100%|██████████| 1750/1750 [00:32<00:00, 54.36batch/s]\n"
          ]
        },
        {
          "name": "stdout",
          "output_type": "stream",
          "text": [
            "Epoch 10/10, Loss: 0.03417963810291258\n"
          ]
        },
        {
          "name": "stderr",
          "output_type": "stream",
          "text": [
            "Evaluation: 100%|██████████| 238/238 [00:00<00:00, 300.08batch/s]\n"
          ]
        },
        {
          "name": "stdout",
          "output_type": "stream",
          "text": [
            "Validation Loss: 0.06604907067933809, Accuracy: 0.9826270071071335\n"
          ]
        },
        {
          "name": "stderr",
          "output_type": "stream",
          "text": [
            "Testing: 100%|██████████| 237/237 [00:00<00:00, 302.89batch/s]\n"
          ]
        },
        {
          "name": "stdout",
          "output_type": "stream",
          "text": [
            "Test Loss: 0.05396412989323102, Accuracy: 0.9870558710870426\n",
            "Training model with embedding_dim=200, hidden_dim1=512, hidden_dim2=128, activation=ReLU\n"
          ]
        },
        {
          "name": "stderr",
          "output_type": "stream",
          "text": [
            "Epoch 1/10: 100%|██████████| 1750/1750 [00:34<00:00, 51.38batch/s]\n"
          ]
        },
        {
          "name": "stdout",
          "output_type": "stream",
          "text": [
            "Epoch 1/10, Loss: 0.14231458382720927\n"
          ]
        },
        {
          "name": "stderr",
          "output_type": "stream",
          "text": [
            "Evaluation: 100%|██████████| 238/238 [00:00<00:00, 280.50batch/s]\n"
          ]
        },
        {
          "name": "stdout",
          "output_type": "stream",
          "text": [
            "Validation Loss: 0.08464028223301773, Accuracy: 0.9701237167675704\n"
          ]
        },
        {
          "name": "stderr",
          "output_type": "stream",
          "text": [
            "Epoch 2/10: 100%|██████████| 1750/1750 [00:33<00:00, 51.87batch/s]\n"
          ]
        },
        {
          "name": "stdout",
          "output_type": "stream",
          "text": [
            "Epoch 2/10, Loss: 0.059473490351245606\n"
          ]
        },
        {
          "name": "stderr",
          "output_type": "stream",
          "text": [
            "Evaluation: 100%|██████████| 238/238 [00:01<00:00, 180.87batch/s]\n"
          ]
        },
        {
          "name": "stdout",
          "output_type": "stream",
          "text": [
            "Validation Loss: 0.06203443017423088, Accuracy: 0.9828902342721769\n"
          ]
        },
        {
          "name": "stderr",
          "output_type": "stream",
          "text": [
            "Epoch 3/10: 100%|██████████| 1750/1750 [00:33<00:00, 51.63batch/s]\n"
          ]
        },
        {
          "name": "stdout",
          "output_type": "stream",
          "text": [
            "Epoch 3/10, Loss: 0.0498926794940323\n"
          ]
        },
        {
          "name": "stderr",
          "output_type": "stream",
          "text": [
            "Evaluation: 100%|██████████| 238/238 [00:00<00:00, 297.43batch/s]\n"
          ]
        },
        {
          "name": "stdout",
          "output_type": "stream",
          "text": [
            "Validation Loss: 0.06330430264852341, Accuracy: 0.9819689391945249\n"
          ]
        },
        {
          "name": "stderr",
          "output_type": "stream",
          "text": [
            "Epoch 4/10: 100%|██████████| 1750/1750 [00:34<00:00, 50.53batch/s]\n"
          ]
        },
        {
          "name": "stdout",
          "output_type": "stream",
          "text": [
            "Epoch 4/10, Loss: 0.04432128644778277\n"
          ]
        },
        {
          "name": "stderr",
          "output_type": "stream",
          "text": [
            "Evaluation: 100%|██████████| 238/238 [00:00<00:00, 306.19batch/s]\n"
          ]
        },
        {
          "name": "stdout",
          "output_type": "stream",
          "text": [
            "Validation Loss: 0.06579426368245106, Accuracy: 0.9824953935246118\n"
          ]
        },
        {
          "name": "stderr",
          "output_type": "stream",
          "text": [
            "Epoch 5/10: 100%|██████████| 1750/1750 [00:34<00:00, 50.60batch/s]\n"
          ]
        },
        {
          "name": "stdout",
          "output_type": "stream",
          "text": [
            "Epoch 5/10, Loss: 0.04020199666327868\n"
          ]
        },
        {
          "name": "stderr",
          "output_type": "stream",
          "text": [
            "Evaluation: 100%|██████████| 238/238 [00:00<00:00, 286.51batch/s]\n"
          ]
        },
        {
          "name": "stdout",
          "output_type": "stream",
          "text": [
            "Validation Loss: 0.07453184003954921, Accuracy: 0.9815740984469598\n"
          ]
        },
        {
          "name": "stderr",
          "output_type": "stream",
          "text": [
            "Epoch 6/10: 100%|██████████| 1750/1750 [00:34<00:00, 50.20batch/s]\n"
          ]
        },
        {
          "name": "stdout",
          "output_type": "stream",
          "text": [
            "Epoch 6/10, Loss: 0.038263575621786526\n"
          ]
        },
        {
          "name": "stderr",
          "output_type": "stream",
          "text": [
            "Evaluation: 100%|██████████| 238/238 [00:00<00:00, 281.81batch/s]\n"
          ]
        },
        {
          "name": "stdout",
          "output_type": "stream",
          "text": [
            "Validation Loss: 0.07101176950010551, Accuracy: 0.9838115293498289\n"
          ]
        },
        {
          "name": "stderr",
          "output_type": "stream",
          "text": [
            "Epoch 7/10: 100%|██████████| 1750/1750 [00:33<00:00, 51.85batch/s]\n"
          ]
        },
        {
          "name": "stdout",
          "output_type": "stream",
          "text": [
            "Epoch 7/10, Loss: 0.03542244301003731\n"
          ]
        },
        {
          "name": "stderr",
          "output_type": "stream",
          "text": [
            "Evaluation: 100%|██████████| 238/238 [00:01<00:00, 187.43batch/s]\n"
          ]
        },
        {
          "name": "stdout",
          "output_type": "stream",
          "text": [
            "Validation Loss: 0.07729240720807469, Accuracy: 0.9798631218741775\n"
          ]
        },
        {
          "name": "stderr",
          "output_type": "stream",
          "text": [
            "Epoch 8/10: 100%|██████████| 1750/1750 [00:33<00:00, 52.89batch/s]\n"
          ]
        },
        {
          "name": "stdout",
          "output_type": "stream",
          "text": [
            "Epoch 8/10, Loss: 0.03400055837514576\n"
          ]
        },
        {
          "name": "stderr",
          "output_type": "stream",
          "text": [
            "Evaluation: 100%|██████████| 238/238 [00:00<00:00, 288.76batch/s]\n"
          ]
        },
        {
          "name": "stdout",
          "output_type": "stream",
          "text": [
            "Validation Loss: 0.07530698543596066, Accuracy: 0.9857857330876546\n"
          ]
        },
        {
          "name": "stderr",
          "output_type": "stream",
          "text": [
            "Epoch 9/10: 100%|██████████| 1750/1750 [00:34<00:00, 51.12batch/s]\n"
          ]
        },
        {
          "name": "stdout",
          "output_type": "stream",
          "text": [
            "Epoch 9/10, Loss: 0.033629997587509904\n"
          ]
        },
        {
          "name": "stderr",
          "output_type": "stream",
          "text": [
            "Evaluation: 100%|██████████| 238/238 [00:00<00:00, 290.04batch/s]\n"
          ]
        },
        {
          "name": "stdout",
          "output_type": "stream",
          "text": [
            "Validation Loss: 0.07888575146199293, Accuracy: 0.9835483021847855\n"
          ]
        },
        {
          "name": "stderr",
          "output_type": "stream",
          "text": [
            "Epoch 10/10: 100%|██████████| 1750/1750 [00:34<00:00, 50.86batch/s]\n"
          ]
        },
        {
          "name": "stdout",
          "output_type": "stream",
          "text": [
            "Epoch 10/10, Loss: 0.032970086045678436\n"
          ]
        },
        {
          "name": "stderr",
          "output_type": "stream",
          "text": [
            "Evaluation: 100%|██████████| 238/238 [00:00<00:00, 294.62batch/s]\n"
          ]
        },
        {
          "name": "stdout",
          "output_type": "stream",
          "text": [
            "Validation Loss: 0.08339833521782153, Accuracy: 0.9842063700973941\n"
          ]
        },
        {
          "name": "stderr",
          "output_type": "stream",
          "text": [
            "Testing: 100%|██████████| 237/237 [00:00<00:00, 297.96batch/s]\n"
          ]
        },
        {
          "name": "stdout",
          "output_type": "stream",
          "text": [
            "Test Loss: 0.05646893401900201, Accuracy: 0.987187954035134\n",
            "Training model with embedding_dim=200, hidden_dim1=512, hidden_dim2=128, activation=Tanh\n"
          ]
        },
        {
          "name": "stderr",
          "output_type": "stream",
          "text": [
            "Epoch 1/10: 100%|██████████| 1750/1750 [00:34<00:00, 50.93batch/s]\n"
          ]
        },
        {
          "name": "stdout",
          "output_type": "stream",
          "text": [
            "Epoch 1/10, Loss: 0.13987973592689792\n"
          ]
        },
        {
          "name": "stderr",
          "output_type": "stream",
          "text": [
            "Evaluation: 100%|██████████| 238/238 [00:00<00:00, 283.52batch/s]\n"
          ]
        },
        {
          "name": "stdout",
          "output_type": "stream",
          "text": [
            "Validation Loss: 0.08644200564056885, Accuracy: 0.9701237167675704\n"
          ]
        },
        {
          "name": "stderr",
          "output_type": "stream",
          "text": [
            "Epoch 2/10: 100%|██████████| 1750/1750 [00:34<00:00, 50.72batch/s]\n"
          ]
        },
        {
          "name": "stdout",
          "output_type": "stream",
          "text": [
            "Epoch 2/10, Loss: 0.0632853796618292\n"
          ]
        },
        {
          "name": "stderr",
          "output_type": "stream",
          "text": [
            "Evaluation: 100%|██████████| 238/238 [00:00<00:00, 293.94batch/s]\n"
          ]
        },
        {
          "name": "stdout",
          "output_type": "stream",
          "text": [
            "Validation Loss: 0.06497925758937045, Accuracy: 0.9809160305343512\n"
          ]
        },
        {
          "name": "stderr",
          "output_type": "stream",
          "text": [
            "Epoch 3/10: 100%|██████████| 1750/1750 [00:33<00:00, 51.60batch/s]\n"
          ]
        },
        {
          "name": "stdout",
          "output_type": "stream",
          "text": [
            "Epoch 3/10, Loss: 0.05475105882801914\n"
          ]
        },
        {
          "name": "stderr",
          "output_type": "stream",
          "text": [
            "Evaluation: 100%|██████████| 238/238 [00:01<00:00, 204.35batch/s]\n"
          ]
        },
        {
          "name": "stdout",
          "output_type": "stream",
          "text": [
            "Validation Loss: 0.06323349579484906, Accuracy: 0.981442484864438\n"
          ]
        },
        {
          "name": "stderr",
          "output_type": "stream",
          "text": [
            "Epoch 4/10: 100%|██████████| 1750/1750 [00:32<00:00, 53.18batch/s]\n"
          ]
        },
        {
          "name": "stdout",
          "output_type": "stream",
          "text": [
            "Epoch 4/10, Loss: 0.04944398855364748\n"
          ]
        },
        {
          "name": "stderr",
          "output_type": "stream",
          "text": [
            "Evaluation: 100%|██████████| 238/238 [00:00<00:00, 291.68batch/s]\n"
          ]
        },
        {
          "name": "stdout",
          "output_type": "stream",
          "text": [
            "Validation Loss: 0.05495833176448149, Accuracy: 0.9839431429323506\n"
          ]
        },
        {
          "name": "stderr",
          "output_type": "stream",
          "text": [
            "Epoch 5/10: 100%|██████████| 1750/1750 [00:34<00:00, 51.40batch/s]\n"
          ]
        },
        {
          "name": "stdout",
          "output_type": "stream",
          "text": [
            "Epoch 5/10, Loss: 0.045354582479190345\n"
          ]
        },
        {
          "name": "stderr",
          "output_type": "stream",
          "text": [
            "Evaluation: 100%|██████████| 238/238 [00:00<00:00, 289.71batch/s]\n"
          ]
        },
        {
          "name": "stdout",
          "output_type": "stream",
          "text": [
            "Validation Loss: 0.06052024438395165, Accuracy: 0.9839431429323506\n"
          ]
        },
        {
          "name": "stderr",
          "output_type": "stream",
          "text": [
            "Epoch 6/10: 100%|██████████| 1750/1750 [00:34<00:00, 51.02batch/s]\n"
          ]
        },
        {
          "name": "stdout",
          "output_type": "stream",
          "text": [
            "Epoch 6/10, Loss: 0.04286755903593231\n"
          ]
        },
        {
          "name": "stderr",
          "output_type": "stream",
          "text": [
            "Evaluation: 100%|██████████| 238/238 [00:00<00:00, 296.77batch/s]\n"
          ]
        },
        {
          "name": "stdout",
          "output_type": "stream",
          "text": [
            "Validation Loss: 0.056404771792188536, Accuracy: 0.9848644380100027\n"
          ]
        },
        {
          "name": "stderr",
          "output_type": "stream",
          "text": [
            "Epoch 7/10: 100%|██████████| 1750/1750 [00:34<00:00, 51.19batch/s]\n"
          ]
        },
        {
          "name": "stdout",
          "output_type": "stream",
          "text": [
            "Epoch 7/10, Loss: 0.04069658307599769\n"
          ]
        },
        {
          "name": "stderr",
          "output_type": "stream",
          "text": [
            "Evaluation: 100%|██████████| 238/238 [00:00<00:00, 289.53batch/s]\n"
          ]
        },
        {
          "name": "stdout",
          "output_type": "stream",
          "text": [
            "Validation Loss: 0.05515239017642839, Accuracy: 0.9849960515925243\n"
          ]
        },
        {
          "name": "stderr",
          "output_type": "stream",
          "text": [
            "Epoch 8/10: 100%|██████████| 1750/1750 [00:33<00:00, 52.42batch/s]\n"
          ]
        },
        {
          "name": "stdout",
          "output_type": "stream",
          "text": [
            "Epoch 8/10, Loss: 0.03867663191764067\n"
          ]
        },
        {
          "name": "stderr",
          "output_type": "stream",
          "text": [
            "Evaluation: 100%|██████████| 238/238 [00:01<00:00, 177.46batch/s]\n"
          ]
        },
        {
          "name": "stdout",
          "output_type": "stream",
          "text": [
            "Validation Loss: 0.05712654987340813, Accuracy: 0.9815740984469598\n"
          ]
        },
        {
          "name": "stderr",
          "output_type": "stream",
          "text": [
            "Epoch 9/10: 100%|██████████| 1750/1750 [00:32<00:00, 53.21batch/s]\n"
          ]
        },
        {
          "name": "stdout",
          "output_type": "stream",
          "text": [
            "Epoch 9/10, Loss: 0.04010214475758507\n"
          ]
        },
        {
          "name": "stderr",
          "output_type": "stream",
          "text": [
            "Evaluation: 100%|██████████| 238/238 [00:00<00:00, 276.88batch/s]\n"
          ]
        },
        {
          "name": "stdout",
          "output_type": "stream",
          "text": [
            "Validation Loss: 0.06574964225588135, Accuracy: 0.9827586206896551\n"
          ]
        },
        {
          "name": "stderr",
          "output_type": "stream",
          "text": [
            "Epoch 10/10: 100%|██████████| 1750/1750 [00:34<00:00, 51.37batch/s]\n"
          ]
        },
        {
          "name": "stdout",
          "output_type": "stream",
          "text": [
            "Epoch 10/10, Loss: 0.037335725961885016\n"
          ]
        },
        {
          "name": "stderr",
          "output_type": "stream",
          "text": [
            "Evaluation: 100%|██████████| 238/238 [00:00<00:00, 291.48batch/s]\n"
          ]
        },
        {
          "name": "stdout",
          "output_type": "stream",
          "text": [
            "Validation Loss: 0.060755867357627474, Accuracy: 0.9844695972624374\n"
          ]
        },
        {
          "name": "stderr",
          "output_type": "stream",
          "text": [
            "Testing: 100%|██████████| 237/237 [00:00<00:00, 287.33batch/s]\n"
          ]
        },
        {
          "name": "stdout",
          "output_type": "stream",
          "text": [
            "Test Loss: 0.04933314532278433, Accuracy: 0.9877162858274997\n",
            "Training model with embedding_dim=200, hidden_dim1=512, hidden_dim2=64, activation=ReLU\n"
          ]
        },
        {
          "name": "stderr",
          "output_type": "stream",
          "text": [
            "Epoch 1/10: 100%|██████████| 1750/1750 [00:33<00:00, 52.58batch/s]\n"
          ]
        },
        {
          "name": "stdout",
          "output_type": "stream",
          "text": [
            "Epoch 1/10, Loss: 0.15085198480576012\n"
          ]
        },
        {
          "name": "stderr",
          "output_type": "stream",
          "text": [
            "Evaluation: 100%|██████████| 238/238 [00:00<00:00, 313.53batch/s]\n"
          ]
        },
        {
          "name": "stdout",
          "output_type": "stream",
          "text": [
            "Validation Loss: 0.06845003120114972, Accuracy: 0.9764411687286128\n"
          ]
        },
        {
          "name": "stderr",
          "output_type": "stream",
          "text": [
            "Epoch 2/10: 100%|██████████| 1750/1750 [00:33<00:00, 51.69batch/s]\n"
          ]
        },
        {
          "name": "stdout",
          "output_type": "stream",
          "text": [
            "Epoch 2/10, Loss: 0.061699428949006166\n"
          ]
        },
        {
          "name": "stderr",
          "output_type": "stream",
          "text": [
            "Evaluation: 100%|██████████| 238/238 [00:00<00:00, 303.40batch/s]\n"
          ]
        },
        {
          "name": "stdout",
          "output_type": "stream",
          "text": [
            "Validation Loss: 0.06880849730084013, Accuracy: 0.9797315082916557\n"
          ]
        },
        {
          "name": "stderr",
          "output_type": "stream",
          "text": [
            "Epoch 3/10: 100%|██████████| 1750/1750 [00:32<00:00, 53.08batch/s]\n"
          ]
        },
        {
          "name": "stdout",
          "output_type": "stream",
          "text": [
            "Epoch 3/10, Loss: 0.04922971313740293\n"
          ]
        },
        {
          "name": "stderr",
          "output_type": "stream",
          "text": [
            "Evaluation: 100%|██████████| 238/238 [00:01<00:00, 178.51batch/s]\n"
          ]
        },
        {
          "name": "stdout",
          "output_type": "stream",
          "text": [
            "Validation Loss: 0.06223049154697732, Accuracy: 0.9836799157673072\n"
          ]
        },
        {
          "name": "stderr",
          "output_type": "stream",
          "text": [
            "Epoch 4/10: 100%|██████████| 1750/1750 [00:32<00:00, 54.12batch/s]\n"
          ]
        },
        {
          "name": "stdout",
          "output_type": "stream",
          "text": [
            "Epoch 4/10, Loss: 0.04416699336780584\n"
          ]
        },
        {
          "name": "stderr",
          "output_type": "stream",
          "text": [
            "Evaluation: 100%|██████████| 238/238 [00:00<00:00, 308.11batch/s]\n"
          ]
        },
        {
          "name": "stdout",
          "output_type": "stream",
          "text": [
            "Validation Loss: 0.07038903084615131, Accuracy: 0.9769676230586997\n"
          ]
        },
        {
          "name": "stderr",
          "output_type": "stream",
          "text": [
            "Epoch 5/10: 100%|██████████| 1750/1750 [00:33<00:00, 51.96batch/s]\n"
          ]
        },
        {
          "name": "stdout",
          "output_type": "stream",
          "text": [
            "Epoch 5/10, Loss: 0.039778123050930196\n"
          ]
        },
        {
          "name": "stderr",
          "output_type": "stream",
          "text": [
            "Evaluation: 100%|██████████| 238/238 [00:00<00:00, 292.62batch/s]\n"
          ]
        },
        {
          "name": "stdout",
          "output_type": "stream",
          "text": [
            "Validation Loss: 0.06327147395095074, Accuracy: 0.9857857330876546\n"
          ]
        },
        {
          "name": "stderr",
          "output_type": "stream",
          "text": [
            "Epoch 6/10: 100%|██████████| 1750/1750 [00:35<00:00, 49.24batch/s]\n"
          ]
        },
        {
          "name": "stdout",
          "output_type": "stream",
          "text": [
            "Epoch 6/10, Loss: 0.0371556430281458\n"
          ]
        },
        {
          "name": "stderr",
          "output_type": "stream",
          "text": [
            "Evaluation: 100%|██████████| 238/238 [00:00<00:00, 287.05batch/s]\n"
          ]
        },
        {
          "name": "stdout",
          "output_type": "stream",
          "text": [
            "Validation Loss: 0.06839425549871155, Accuracy: 0.9843379836799158\n"
          ]
        },
        {
          "name": "stderr",
          "output_type": "stream",
          "text": [
            "Epoch 7/10: 100%|██████████| 1750/1750 [00:37<00:00, 47.26batch/s]\n"
          ]
        },
        {
          "name": "stdout",
          "output_type": "stream",
          "text": [
            "Epoch 7/10, Loss: 0.035492301844582214\n"
          ]
        },
        {
          "name": "stderr",
          "output_type": "stream",
          "text": [
            "Evaluation: 100%|██████████| 238/238 [00:00<00:00, 287.51batch/s]\n"
          ]
        },
        {
          "name": "stdout",
          "output_type": "stream",
          "text": [
            "Validation Loss: 0.06884715864768867, Accuracy: 0.9838115293498289\n"
          ]
        },
        {
          "name": "stderr",
          "output_type": "stream",
          "text": [
            "Epoch 8/10: 100%|██████████| 1750/1750 [00:35<00:00, 48.83batch/s]\n"
          ]
        },
        {
          "name": "stdout",
          "output_type": "stream",
          "text": [
            "Epoch 8/10, Loss: 0.0346394737642643\n"
          ]
        },
        {
          "name": "stderr",
          "output_type": "stream",
          "text": [
            "Evaluation: 100%|██████████| 238/238 [00:00<00:00, 280.21batch/s]\n"
          ]
        },
        {
          "name": "stdout",
          "output_type": "stream",
          "text": [
            "Validation Loss: 0.0727010961250131, Accuracy: 0.9846012108449592\n"
          ]
        },
        {
          "name": "stderr",
          "output_type": "stream",
          "text": [
            "Epoch 9/10: 100%|██████████| 1750/1750 [00:35<00:00, 49.63batch/s]\n"
          ]
        },
        {
          "name": "stdout",
          "output_type": "stream",
          "text": [
            "Epoch 9/10, Loss: 0.03298518505992206\n"
          ]
        },
        {
          "name": "stderr",
          "output_type": "stream",
          "text": [
            "Evaluation: 100%|██████████| 238/238 [00:00<00:00, 263.87batch/s]\n"
          ]
        },
        {
          "name": "stdout",
          "output_type": "stream",
          "text": [
            "Validation Loss: 0.06992850585869624, Accuracy: 0.985127665175046\n"
          ]
        },
        {
          "name": "stderr",
          "output_type": "stream",
          "text": [
            "Epoch 10/10: 100%|██████████| 1750/1750 [00:34<00:00, 50.17batch/s]\n"
          ]
        },
        {
          "name": "stdout",
          "output_type": "stream",
          "text": [
            "Epoch 10/10, Loss: 0.03096608798719756\n"
          ]
        },
        {
          "name": "stderr",
          "output_type": "stream",
          "text": [
            "Evaluation: 100%|██████████| 238/238 [00:01<00:00, 171.85batch/s]\n"
          ]
        },
        {
          "name": "stdout",
          "output_type": "stream",
          "text": [
            "Validation Loss: 0.0788127032332536, Accuracy: 0.9838115293498289\n"
          ]
        },
        {
          "name": "stderr",
          "output_type": "stream",
          "text": [
            "Testing: 100%|██████████| 237/237 [00:00<00:00, 286.22batch/s]\n"
          ]
        },
        {
          "name": "stdout",
          "output_type": "stream",
          "text": [
            "Test Loss: 0.05151900908007335, Accuracy: 0.9882446176198653\n",
            "Training model with embedding_dim=200, hidden_dim1=512, hidden_dim2=64, activation=Tanh\n"
          ]
        },
        {
          "name": "stderr",
          "output_type": "stream",
          "text": [
            "Epoch 1/10: 100%|██████████| 1750/1750 [00:34<00:00, 50.54batch/s]\n"
          ]
        },
        {
          "name": "stdout",
          "output_type": "stream",
          "text": [
            "Epoch 1/10, Loss: 0.15014795523948435\n"
          ]
        },
        {
          "name": "stderr",
          "output_type": "stream",
          "text": [
            "Evaluation: 100%|██████████| 238/238 [00:01<00:00, 168.30batch/s]\n"
          ]
        },
        {
          "name": "stdout",
          "output_type": "stream",
          "text": [
            "Validation Loss: 0.0726622235051458, Accuracy: 0.9777573045538299\n"
          ]
        },
        {
          "name": "stderr",
          "output_type": "stream",
          "text": [
            "Epoch 2/10: 100%|██████████| 1750/1750 [00:33<00:00, 51.52batch/s]\n"
          ]
        },
        {
          "name": "stdout",
          "output_type": "stream",
          "text": [
            "Epoch 2/10, Loss: 0.06457247098901175\n"
          ]
        },
        {
          "name": "stderr",
          "output_type": "stream",
          "text": [
            "Evaluation: 100%|██████████| 238/238 [00:00<00:00, 272.60batch/s]\n"
          ]
        },
        {
          "name": "stdout",
          "output_type": "stream",
          "text": [
            "Validation Loss: 0.07914980357276089, Accuracy: 0.976836009476178\n"
          ]
        },
        {
          "name": "stderr",
          "output_type": "stream",
          "text": [
            "Epoch 3/10: 100%|██████████| 1750/1750 [00:35<00:00, 48.67batch/s]\n"
          ]
        },
        {
          "name": "stdout",
          "output_type": "stream",
          "text": [
            "Epoch 3/10, Loss: 0.05624283929102655\n"
          ]
        },
        {
          "name": "stderr",
          "output_type": "stream",
          "text": [
            "Evaluation: 100%|██████████| 238/238 [00:00<00:00, 261.90batch/s]\n"
          ]
        },
        {
          "name": "stdout",
          "output_type": "stream",
          "text": [
            "Validation Loss: 0.0636175282423271, Accuracy: 0.98236377994209\n"
          ]
        },
        {
          "name": "stderr",
          "output_type": "stream",
          "text": [
            "Epoch 4/10: 100%|██████████| 1750/1750 [00:35<00:00, 49.25batch/s]\n"
          ]
        },
        {
          "name": "stdout",
          "output_type": "stream",
          "text": [
            "Epoch 4/10, Loss: 0.04967465560813435\n"
          ]
        },
        {
          "name": "stderr",
          "output_type": "stream",
          "text": [
            "Evaluation: 100%|██████████| 238/238 [00:00<00:00, 247.72batch/s]\n"
          ]
        },
        {
          "name": "stdout",
          "output_type": "stream",
          "text": [
            "Validation Loss: 0.06391806053714298, Accuracy: 0.9836799157673072\n"
          ]
        },
        {
          "name": "stderr",
          "output_type": "stream",
          "text": [
            "Epoch 5/10: 100%|██████████| 1750/1750 [00:36<00:00, 48.09batch/s]\n"
          ]
        },
        {
          "name": "stdout",
          "output_type": "stream",
          "text": [
            "Epoch 5/10, Loss: 0.04628073142157934\n"
          ]
        },
        {
          "name": "stderr",
          "output_type": "stream",
          "text": [
            "Evaluation: 100%|██████████| 238/238 [00:00<00:00, 254.03batch/s]\n"
          ]
        },
        {
          "name": "stdout",
          "output_type": "stream",
          "text": [
            "Validation Loss: 0.0641846713590917, Accuracy: 0.9822321663595683\n"
          ]
        },
        {
          "name": "stderr",
          "output_type": "stream",
          "text": [
            "Epoch 6/10: 100%|██████████| 1750/1750 [00:35<00:00, 48.97batch/s]\n"
          ]
        },
        {
          "name": "stdout",
          "output_type": "stream",
          "text": [
            "Epoch 6/10, Loss: 0.04263123977042103\n"
          ]
        },
        {
          "name": "stderr",
          "output_type": "stream",
          "text": [
            "Evaluation: 100%|██████████| 238/238 [00:00<00:00, 281.59batch/s]\n"
          ]
        },
        {
          "name": "stdout",
          "output_type": "stream",
          "text": [
            "Validation Loss: 0.0613909834971898, Accuracy: 0.9827586206896551\n"
          ]
        },
        {
          "name": "stderr",
          "output_type": "stream",
          "text": [
            "Epoch 7/10: 100%|██████████| 1750/1750 [00:36<00:00, 47.73batch/s]\n"
          ]
        },
        {
          "name": "stdout",
          "output_type": "stream",
          "text": [
            "Epoch 7/10, Loss: 0.042709194495991275\n"
          ]
        },
        {
          "name": "stderr",
          "output_type": "stream",
          "text": [
            "Evaluation: 100%|██████████| 238/238 [00:00<00:00, 277.77batch/s]\n"
          ]
        },
        {
          "name": "stdout",
          "output_type": "stream",
          "text": [
            "Validation Loss: 0.059172938038064796, Accuracy: 0.9838115293498289\n"
          ]
        },
        {
          "name": "stderr",
          "output_type": "stream",
          "text": [
            "Epoch 8/10: 100%|██████████| 1750/1750 [00:35<00:00, 49.56batch/s]\n"
          ]
        },
        {
          "name": "stdout",
          "output_type": "stream",
          "text": [
            "Epoch 8/10, Loss: 0.041826120895832514\n"
          ]
        },
        {
          "name": "stderr",
          "output_type": "stream",
          "text": [
            "Evaluation: 100%|██████████| 238/238 [00:00<00:00, 241.96batch/s]\n"
          ]
        },
        {
          "name": "stdout",
          "output_type": "stream",
          "text": [
            "Validation Loss: 0.058392406606356057, Accuracy: 0.9855225059226113\n"
          ]
        },
        {
          "name": "stderr",
          "output_type": "stream",
          "text": [
            "Epoch 9/10: 100%|██████████| 1750/1750 [00:34<00:00, 50.11batch/s]\n"
          ]
        },
        {
          "name": "stdout",
          "output_type": "stream",
          "text": [
            "Epoch 9/10, Loss: 0.03899382798440222\n"
          ]
        },
        {
          "name": "stderr",
          "output_type": "stream",
          "text": [
            "Evaluation: 100%|██████████| 238/238 [00:01<00:00, 198.29batch/s]\n"
          ]
        },
        {
          "name": "stdout",
          "output_type": "stream",
          "text": [
            "Validation Loss: 0.05336751579906216, Accuracy: 0.9867070281653066\n"
          ]
        },
        {
          "name": "stderr",
          "output_type": "stream",
          "text": [
            "Epoch 10/10: 100%|██████████| 1750/1750 [00:33<00:00, 51.98batch/s]\n"
          ]
        },
        {
          "name": "stdout",
          "output_type": "stream",
          "text": [
            "Epoch 10/10, Loss: 0.0365632045824563\n"
          ]
        },
        {
          "name": "stderr",
          "output_type": "stream",
          "text": [
            "Evaluation: 100%|██████████| 238/238 [00:01<00:00, 219.00batch/s]\n"
          ]
        },
        {
          "name": "stdout",
          "output_type": "stream",
          "text": [
            "Validation Loss: 0.057125504486685415, Accuracy: 0.983285075019742\n"
          ]
        },
        {
          "name": "stderr",
          "output_type": "stream",
          "text": [
            "Testing: 100%|██████████| 237/237 [00:01<00:00, 191.96batch/s]\n"
          ]
        },
        {
          "name": "stdout",
          "output_type": "stream",
          "text": [
            "Test Loss: 0.04463872775685471, Accuracy: 0.9878483687755911\n",
            "Training model with embedding_dim=200, hidden_dim1=256, hidden_dim2=128, activation=ReLU\n"
          ]
        },
        {
          "name": "stderr",
          "output_type": "stream",
          "text": [
            "Epoch 1/10: 100%|██████████| 1750/1750 [00:33<00:00, 52.40batch/s]\n"
          ]
        },
        {
          "name": "stdout",
          "output_type": "stream",
          "text": [
            "Epoch 1/10, Loss: 0.1573046471667476\n"
          ]
        },
        {
          "name": "stderr",
          "output_type": "stream",
          "text": [
            "Evaluation: 100%|██████████| 238/238 [00:00<00:00, 284.17batch/s]\n"
          ]
        },
        {
          "name": "stdout",
          "output_type": "stream",
          "text": [
            "Validation Loss: 0.0780630504759909, Accuracy: 0.9793366675440905\n"
          ]
        },
        {
          "name": "stderr",
          "output_type": "stream",
          "text": [
            "Epoch 2/10: 100%|██████████| 1750/1750 [00:33<00:00, 51.64batch/s]\n"
          ]
        },
        {
          "name": "stdout",
          "output_type": "stream",
          "text": [
            "Epoch 2/10, Loss: 0.061717827206311214\n"
          ]
        },
        {
          "name": "stderr",
          "output_type": "stream",
          "text": [
            "Evaluation: 100%|██████████| 238/238 [00:00<00:00, 308.98batch/s]\n"
          ]
        },
        {
          "name": "stdout",
          "output_type": "stream",
          "text": [
            "Validation Loss: 0.059182018782780114, Accuracy: 0.9835483021847855\n"
          ]
        },
        {
          "name": "stderr",
          "output_type": "stream",
          "text": [
            "Epoch 3/10: 100%|██████████| 1750/1750 [00:32<00:00, 53.47batch/s]\n"
          ]
        },
        {
          "name": "stdout",
          "output_type": "stream",
          "text": [
            "Epoch 3/10, Loss: 0.05049994916698363\n"
          ]
        },
        {
          "name": "stderr",
          "output_type": "stream",
          "text": [
            "Evaluation: 100%|██████████| 238/238 [00:00<00:00, 300.91batch/s]\n"
          ]
        },
        {
          "name": "stdout",
          "output_type": "stream",
          "text": [
            "Validation Loss: 0.06828879693170502, Accuracy: 0.9809160305343512\n"
          ]
        },
        {
          "name": "stderr",
          "output_type": "stream",
          "text": [
            "Epoch 4/10: 100%|██████████| 1750/1750 [00:31<00:00, 56.40batch/s]\n"
          ]
        },
        {
          "name": "stdout",
          "output_type": "stream",
          "text": [
            "Epoch 4/10, Loss: 0.0454390110135199\n"
          ]
        },
        {
          "name": "stderr",
          "output_type": "stream",
          "text": [
            "Evaluation: 100%|██████████| 238/238 [00:00<00:00, 301.26batch/s]\n"
          ]
        },
        {
          "name": "stdout",
          "output_type": "stream",
          "text": [
            "Validation Loss: 0.06283600596181423, Accuracy: 0.9839431429323506\n"
          ]
        },
        {
          "name": "stderr",
          "output_type": "stream",
          "text": [
            "Epoch 5/10: 100%|██████████| 1750/1750 [00:32<00:00, 53.46batch/s]\n"
          ]
        },
        {
          "name": "stdout",
          "output_type": "stream",
          "text": [
            "Epoch 5/10, Loss: 0.04103493910643738\n"
          ]
        },
        {
          "name": "stderr",
          "output_type": "stream",
          "text": [
            "Evaluation: 100%|██████████| 238/238 [00:00<00:00, 319.72batch/s]\n"
          ]
        },
        {
          "name": "stdout",
          "output_type": "stream",
          "text": [
            "Validation Loss: 0.07030702272372039, Accuracy: 0.983285075019742\n"
          ]
        },
        {
          "name": "stderr",
          "output_type": "stream",
          "text": [
            "Epoch 6/10: 100%|██████████| 1750/1750 [00:33<00:00, 52.80batch/s]\n"
          ]
        },
        {
          "name": "stdout",
          "output_type": "stream",
          "text": [
            "Epoch 6/10, Loss: 0.038401576594374744\n"
          ]
        },
        {
          "name": "stderr",
          "output_type": "stream",
          "text": [
            "Evaluation: 100%|██████████| 238/238 [00:00<00:00, 301.91batch/s]\n"
          ]
        },
        {
          "name": "stdout",
          "output_type": "stream",
          "text": [
            "Validation Loss: 0.06479200074362543, Accuracy: 0.9834166886022637\n"
          ]
        },
        {
          "name": "stderr",
          "output_type": "stream",
          "text": [
            "Epoch 7/10: 100%|██████████| 1750/1750 [00:31<00:00, 55.82batch/s]\n"
          ]
        },
        {
          "name": "stdout",
          "output_type": "stream",
          "text": [
            "Epoch 7/10, Loss: 0.03603318012576892\n"
          ]
        },
        {
          "name": "stderr",
          "output_type": "stream",
          "text": [
            "Evaluation: 100%|██████████| 238/238 [00:00<00:00, 298.97batch/s]\n"
          ]
        },
        {
          "name": "stdout",
          "output_type": "stream",
          "text": [
            "Validation Loss: 0.06727926651892095, Accuracy: 0.9848644380100027\n"
          ]
        },
        {
          "name": "stderr",
          "output_type": "stream",
          "text": [
            "Epoch 8/10: 100%|██████████| 1750/1750 [00:32<00:00, 53.14batch/s]\n"
          ]
        },
        {
          "name": "stdout",
          "output_type": "stream",
          "text": [
            "Epoch 8/10, Loss: 0.03302668066914235\n"
          ]
        },
        {
          "name": "stderr",
          "output_type": "stream",
          "text": [
            "Evaluation: 100%|██████████| 238/238 [00:00<00:00, 310.10batch/s]\n"
          ]
        },
        {
          "name": "stdout",
          "output_type": "stream",
          "text": [
            "Validation Loss: 0.07232170302637972, Accuracy: 0.9843379836799158\n"
          ]
        },
        {
          "name": "stderr",
          "output_type": "stream",
          "text": [
            "Epoch 9/10: 100%|██████████| 1750/1750 [00:33<00:00, 52.95batch/s]\n"
          ]
        },
        {
          "name": "stdout",
          "output_type": "stream",
          "text": [
            "Epoch 9/10, Loss: 0.03384254045230305\n"
          ]
        },
        {
          "name": "stderr",
          "output_type": "stream",
          "text": [
            "Evaluation: 100%|██████████| 238/238 [00:00<00:00, 308.86batch/s]\n"
          ]
        },
        {
          "name": "stdout",
          "output_type": "stream",
          "text": [
            "Validation Loss: 0.07994554843698357, Accuracy: 0.9838115293498289\n"
          ]
        },
        {
          "name": "stderr",
          "output_type": "stream",
          "text": [
            "Epoch 10/10: 100%|██████████| 1750/1750 [00:31<00:00, 54.84batch/s]\n"
          ]
        },
        {
          "name": "stdout",
          "output_type": "stream",
          "text": [
            "Epoch 10/10, Loss: 0.031623335119739554\n"
          ]
        },
        {
          "name": "stderr",
          "output_type": "stream",
          "text": [
            "Evaluation: 100%|██████████| 238/238 [00:00<00:00, 304.41batch/s]\n"
          ]
        },
        {
          "name": "stdout",
          "output_type": "stream",
          "text": [
            "Validation Loss: 0.07086129307232637, Accuracy: 0.9842063700973941\n"
          ]
        },
        {
          "name": "stderr",
          "output_type": "stream",
          "text": [
            "Testing: 100%|██████████| 237/237 [00:01<00:00, 178.55batch/s]\n"
          ]
        },
        {
          "name": "stdout",
          "output_type": "stream",
          "text": [
            "Test Loss: 0.04718369026916198, Accuracy: 0.9891691982565051\n",
            "Training model with embedding_dim=200, hidden_dim1=256, hidden_dim2=128, activation=Tanh\n"
          ]
        },
        {
          "name": "stderr",
          "output_type": "stream",
          "text": [
            "Epoch 1/10: 100%|██████████| 1750/1750 [00:31<00:00, 55.48batch/s]\n"
          ]
        },
        {
          "name": "stdout",
          "output_type": "stream",
          "text": [
            "Epoch 1/10, Loss: 0.14858040181986457\n"
          ]
        },
        {
          "name": "stderr",
          "output_type": "stream",
          "text": [
            "Evaluation: 100%|██████████| 238/238 [00:00<00:00, 277.58batch/s]\n"
          ]
        },
        {
          "name": "stdout",
          "output_type": "stream",
          "text": [
            "Validation Loss: 0.07749080546190493, Accuracy: 0.981442484864438\n"
          ]
        },
        {
          "name": "stderr",
          "output_type": "stream",
          "text": [
            "Epoch 2/10: 100%|██████████| 1750/1750 [00:32<00:00, 53.94batch/s]\n"
          ]
        },
        {
          "name": "stdout",
          "output_type": "stream",
          "text": [
            "Epoch 2/10, Loss: 0.06332668489191148\n"
          ]
        },
        {
          "name": "stderr",
          "output_type": "stream",
          "text": [
            "Evaluation: 100%|██████████| 238/238 [00:00<00:00, 296.18batch/s]\n"
          ]
        },
        {
          "name": "stdout",
          "output_type": "stream",
          "text": [
            "Validation Loss: 0.06592458057116538, Accuracy: 0.9818373256120032\n"
          ]
        },
        {
          "name": "stderr",
          "output_type": "stream",
          "text": [
            "Epoch 3/10: 100%|██████████| 1750/1750 [00:31<00:00, 55.45batch/s]\n"
          ]
        },
        {
          "name": "stdout",
          "output_type": "stream",
          "text": [
            "Epoch 3/10, Loss: 0.052039640250399574\n"
          ]
        },
        {
          "name": "stderr",
          "output_type": "stream",
          "text": [
            "Evaluation: 100%|██████████| 238/238 [00:01<00:00, 169.99batch/s]\n"
          ]
        },
        {
          "name": "stdout",
          "output_type": "stream",
          "text": [
            "Validation Loss: 0.05868149966139937, Accuracy: 0.9822321663595683\n"
          ]
        },
        {
          "name": "stderr",
          "output_type": "stream",
          "text": [
            "Epoch 4/10: 100%|██████████| 1750/1750 [00:31<00:00, 54.88batch/s]\n"
          ]
        },
        {
          "name": "stdout",
          "output_type": "stream",
          "text": [
            "Epoch 4/10, Loss: 0.04658864479177698\n"
          ]
        },
        {
          "name": "stderr",
          "output_type": "stream",
          "text": [
            "Evaluation: 100%|██████████| 238/238 [00:00<00:00, 309.08batch/s]\n"
          ]
        },
        {
          "name": "stdout",
          "output_type": "stream",
          "text": [
            "Validation Loss: 0.05504365630280089, Accuracy: 0.9839431429323506\n"
          ]
        },
        {
          "name": "stderr",
          "output_type": "stream",
          "text": [
            "Epoch 5/10: 100%|██████████| 1750/1750 [00:32<00:00, 53.70batch/s]\n"
          ]
        },
        {
          "name": "stdout",
          "output_type": "stream",
          "text": [
            "Epoch 5/10, Loss: 0.04283619878349626\n"
          ]
        },
        {
          "name": "stderr",
          "output_type": "stream",
          "text": [
            "Evaluation: 100%|██████████| 238/238 [00:00<00:00, 312.00batch/s]\n"
          ]
        },
        {
          "name": "stdout",
          "output_type": "stream",
          "text": [
            "Validation Loss: 0.06967603700083119, Accuracy: 0.9809160305343512\n"
          ]
        },
        {
          "name": "stderr",
          "output_type": "stream",
          "text": [
            "Epoch 6/10: 100%|██████████| 1750/1750 [00:31<00:00, 55.24batch/s]\n"
          ]
        },
        {
          "name": "stdout",
          "output_type": "stream",
          "text": [
            "Epoch 6/10, Loss: 0.039798093662655444\n"
          ]
        },
        {
          "name": "stderr",
          "output_type": "stream",
          "text": [
            "Evaluation: 100%|██████████| 238/238 [00:00<00:00, 313.09batch/s]\n"
          ]
        },
        {
          "name": "stdout",
          "output_type": "stream",
          "text": [
            "Validation Loss: 0.06047453267318578, Accuracy: 0.9822321663595683\n"
          ]
        },
        {
          "name": "stderr",
          "output_type": "stream",
          "text": [
            "Epoch 7/10: 100%|██████████| 1750/1750 [00:32<00:00, 53.84batch/s]\n"
          ]
        },
        {
          "name": "stdout",
          "output_type": "stream",
          "text": [
            "Epoch 7/10, Loss: 0.03801682093001935\n"
          ]
        },
        {
          "name": "stderr",
          "output_type": "stream",
          "text": [
            "Evaluation: 100%|██████████| 238/238 [00:00<00:00, 311.18batch/s]\n"
          ]
        },
        {
          "name": "stdout",
          "output_type": "stream",
          "text": [
            "Validation Loss: 0.06164006198157934, Accuracy: 0.9846012108449592\n"
          ]
        },
        {
          "name": "stderr",
          "output_type": "stream",
          "text": [
            "Epoch 8/10: 100%|██████████| 1750/1750 [00:32<00:00, 53.38batch/s]\n"
          ]
        },
        {
          "name": "stdout",
          "output_type": "stream",
          "text": [
            "Epoch 8/10, Loss: 0.036345022432069524\n"
          ]
        },
        {
          "name": "stderr",
          "output_type": "stream",
          "text": [
            "Evaluation: 100%|██████████| 238/238 [00:00<00:00, 294.54batch/s]\n"
          ]
        },
        {
          "name": "stdout",
          "output_type": "stream",
          "text": [
            "Validation Loss: 0.05959384892794486, Accuracy: 0.9842063700973941\n"
          ]
        },
        {
          "name": "stderr",
          "output_type": "stream",
          "text": [
            "Epoch 9/10: 100%|██████████| 1750/1750 [00:31<00:00, 55.66batch/s]\n"
          ]
        },
        {
          "name": "stdout",
          "output_type": "stream",
          "text": [
            "Epoch 9/10, Loss: 0.03540715160212546\n"
          ]
        },
        {
          "name": "stderr",
          "output_type": "stream",
          "text": [
            "Evaluation: 100%|██████████| 238/238 [00:00<00:00, 302.20batch/s]\n"
          ]
        },
        {
          "name": "stdout",
          "output_type": "stream",
          "text": [
            "Validation Loss: 0.05775978984499542, Accuracy: 0.975914714398526\n"
          ]
        },
        {
          "name": "stderr",
          "output_type": "stream",
          "text": [
            "Epoch 10/10: 100%|██████████| 1750/1750 [00:32<00:00, 53.70batch/s]\n"
          ]
        },
        {
          "name": "stdout",
          "output_type": "stream",
          "text": [
            "Epoch 10/10, Loss: 0.034504311292922855\n"
          ]
        },
        {
          "name": "stderr",
          "output_type": "stream",
          "text": [
            "Evaluation: 100%|██████████| 238/238 [00:00<00:00, 310.85batch/s]\n"
          ]
        },
        {
          "name": "stdout",
          "output_type": "stream",
          "text": [
            "Validation Loss: 0.05808089026655931, Accuracy: 0.986575414582785\n"
          ]
        },
        {
          "name": "stderr",
          "output_type": "stream",
          "text": [
            "Testing: 100%|██████████| 237/237 [00:00<00:00, 312.85batch/s]\n"
          ]
        },
        {
          "name": "stdout",
          "output_type": "stream",
          "text": [
            "Test Loss: 0.04499962973180114, Accuracy: 0.9904900277374191\n",
            "Training model with embedding_dim=200, hidden_dim1=256, hidden_dim2=64, activation=ReLU\n"
          ]
        },
        {
          "name": "stderr",
          "output_type": "stream",
          "text": [
            "Epoch 1/10: 100%|██████████| 1750/1750 [00:32<00:00, 54.24batch/s]\n"
          ]
        },
        {
          "name": "stdout",
          "output_type": "stream",
          "text": [
            "Epoch 1/10, Loss: 0.16172836272857552\n"
          ]
        },
        {
          "name": "stderr",
          "output_type": "stream",
          "text": [
            "Evaluation: 100%|██████████| 238/238 [00:00<00:00, 307.87batch/s]\n"
          ]
        },
        {
          "name": "stdout",
          "output_type": "stream",
          "text": [
            "Validation Loss: 0.09330267146398008, Accuracy: 0.9693340352724401\n"
          ]
        },
        {
          "name": "stderr",
          "output_type": "stream",
          "text": [
            "Epoch 2/10: 100%|██████████| 1750/1750 [00:31<00:00, 56.40batch/s]\n"
          ]
        },
        {
          "name": "stdout",
          "output_type": "stream",
          "text": [
            "Epoch 2/10, Loss: 0.062418040553041336\n"
          ]
        },
        {
          "name": "stderr",
          "output_type": "stream",
          "text": [
            "Evaluation: 100%|██████████| 238/238 [00:00<00:00, 325.19batch/s]\n"
          ]
        },
        {
          "name": "stdout",
          "output_type": "stream",
          "text": [
            "Validation Loss: 0.07592974014948572, Accuracy: 0.9719663069228744\n"
          ]
        },
        {
          "name": "stderr",
          "output_type": "stream",
          "text": [
            "Epoch 3/10: 100%|██████████| 1750/1750 [00:32<00:00, 54.56batch/s]\n"
          ]
        },
        {
          "name": "stdout",
          "output_type": "stream",
          "text": [
            "Epoch 3/10, Loss: 0.05127770463570986\n"
          ]
        },
        {
          "name": "stderr",
          "output_type": "stream",
          "text": [
            "Evaluation: 100%|██████████| 238/238 [00:00<00:00, 313.87batch/s]\n"
          ]
        },
        {
          "name": "stdout",
          "output_type": "stream",
          "text": [
            "Validation Loss: 0.06127931738445709, Accuracy: 0.9843379836799158\n"
          ]
        },
        {
          "name": "stderr",
          "output_type": "stream",
          "text": [
            "Epoch 4/10: 100%|██████████| 1750/1750 [00:31<00:00, 54.92batch/s]\n"
          ]
        },
        {
          "name": "stdout",
          "output_type": "stream",
          "text": [
            "Epoch 4/10, Loss: 0.04476432356399684\n"
          ]
        },
        {
          "name": "stderr",
          "output_type": "stream",
          "text": [
            "Evaluation: 100%|██████████| 238/238 [00:01<00:00, 193.54batch/s]\n"
          ]
        },
        {
          "name": "stdout",
          "output_type": "stream",
          "text": [
            "Validation Loss: 0.06286937303446989, Accuracy: 0.9849960515925243\n"
          ]
        },
        {
          "name": "stderr",
          "output_type": "stream",
          "text": [
            "Epoch 5/10: 100%|██████████| 1750/1750 [00:31<00:00, 56.07batch/s]\n"
          ]
        },
        {
          "name": "stdout",
          "output_type": "stream",
          "text": [
            "Epoch 5/10, Loss: 0.04167227343061885\n"
          ]
        },
        {
          "name": "stderr",
          "output_type": "stream",
          "text": [
            "Evaluation: 100%|██████████| 238/238 [00:00<00:00, 314.61batch/s]\n"
          ]
        },
        {
          "name": "stdout",
          "output_type": "stream",
          "text": [
            "Validation Loss: 0.0635367944561353, Accuracy: 0.9836799157673072\n"
          ]
        },
        {
          "name": "stderr",
          "output_type": "stream",
          "text": [
            "Epoch 6/10: 100%|██████████| 1750/1750 [00:32<00:00, 54.05batch/s]\n"
          ]
        },
        {
          "name": "stdout",
          "output_type": "stream",
          "text": [
            "Epoch 6/10, Loss: 0.03806507541883911\n"
          ]
        },
        {
          "name": "stderr",
          "output_type": "stream",
          "text": [
            "Evaluation: 100%|██████████| 238/238 [00:00<00:00, 300.87batch/s]\n"
          ]
        },
        {
          "name": "stdout",
          "output_type": "stream",
          "text": [
            "Validation Loss: 0.06903311034462803, Accuracy: 0.9790734403790471\n"
          ]
        },
        {
          "name": "stderr",
          "output_type": "stream",
          "text": [
            "Epoch 7/10: 100%|██████████| 1750/1750 [00:31<00:00, 56.01batch/s]\n"
          ]
        },
        {
          "name": "stdout",
          "output_type": "stream",
          "text": [
            "Epoch 7/10, Loss: 0.03671082524139742\n"
          ]
        },
        {
          "name": "stderr",
          "output_type": "stream",
          "text": [
            "Evaluation: 100%|██████████| 238/238 [00:00<00:00, 273.72batch/s]\n"
          ]
        },
        {
          "name": "stdout",
          "output_type": "stream",
          "text": [
            "Validation Loss: 0.06384930120395224, Accuracy: 0.9847328244274809\n"
          ]
        },
        {
          "name": "stderr",
          "output_type": "stream",
          "text": [
            "Epoch 8/10: 100%|██████████| 1750/1750 [00:32<00:00, 54.00batch/s]\n"
          ]
        },
        {
          "name": "stdout",
          "output_type": "stream",
          "text": [
            "Epoch 8/10, Loss: 0.03480059546390424\n"
          ]
        },
        {
          "name": "stderr",
          "output_type": "stream",
          "text": [
            "Evaluation: 100%|██████████| 238/238 [00:00<00:00, 290.47batch/s]\n"
          ]
        },
        {
          "name": "stdout",
          "output_type": "stream",
          "text": [
            "Validation Loss: 0.0638216252219467, Accuracy: 0.9852592787575678\n"
          ]
        },
        {
          "name": "stderr",
          "output_type": "stream",
          "text": [
            "Epoch 9/10: 100%|██████████| 1750/1750 [00:32<00:00, 53.86batch/s]\n"
          ]
        },
        {
          "name": "stdout",
          "output_type": "stream",
          "text": [
            "Epoch 9/10, Loss: 0.03294198838927904\n"
          ]
        },
        {
          "name": "stderr",
          "output_type": "stream",
          "text": [
            "Evaluation: 100%|██████████| 238/238 [00:00<00:00, 315.56batch/s]\n"
          ]
        },
        {
          "name": "stdout",
          "output_type": "stream",
          "text": [
            "Validation Loss: 0.08431358921366498, Accuracy: 0.9849960515925243\n"
          ]
        },
        {
          "name": "stderr",
          "output_type": "stream",
          "text": [
            "Epoch 10/10: 100%|██████████| 1750/1750 [00:31<00:00, 55.71batch/s]\n"
          ]
        },
        {
          "name": "stdout",
          "output_type": "stream",
          "text": [
            "Epoch 10/10, Loss: 0.03229765590637206\n"
          ]
        },
        {
          "name": "stderr",
          "output_type": "stream",
          "text": [
            "Evaluation: 100%|██████████| 238/238 [00:00<00:00, 312.06batch/s]\n"
          ]
        },
        {
          "name": "stdout",
          "output_type": "stream",
          "text": [
            "Validation Loss: 0.07404424895238884, Accuracy: 0.9838115293498289\n"
          ]
        },
        {
          "name": "stderr",
          "output_type": "stream",
          "text": [
            "Testing: 100%|██████████| 237/237 [00:01<00:00, 199.08batch/s]\n"
          ]
        },
        {
          "name": "stdout",
          "output_type": "stream",
          "text": [
            "Test Loss: 0.047762487288532364, Accuracy: 0.989829612996962\n",
            "Training model with embedding_dim=200, hidden_dim1=256, hidden_dim2=64, activation=Tanh\n"
          ]
        },
        {
          "name": "stderr",
          "output_type": "stream",
          "text": [
            "Epoch 1/10: 100%|██████████| 1750/1750 [00:31<00:00, 54.93batch/s]\n"
          ]
        },
        {
          "name": "stdout",
          "output_type": "stream",
          "text": [
            "Epoch 1/10, Loss: 0.15777266082234148\n"
          ]
        },
        {
          "name": "stderr",
          "output_type": "stream",
          "text": [
            "Evaluation: 100%|██████████| 238/238 [00:00<00:00, 316.18batch/s]\n"
          ]
        },
        {
          "name": "stdout",
          "output_type": "stream",
          "text": [
            "Validation Loss: 0.06782938289835642, Accuracy: 0.9810476441168728\n"
          ]
        },
        {
          "name": "stderr",
          "output_type": "stream",
          "text": [
            "Epoch 2/10: 100%|██████████| 1750/1750 [00:32<00:00, 54.68batch/s]\n"
          ]
        },
        {
          "name": "stdout",
          "output_type": "stream",
          "text": [
            "Epoch 2/10, Loss: 0.06088848087145016\n"
          ]
        },
        {
          "name": "stderr",
          "output_type": "stream",
          "text": [
            "Evaluation: 100%|██████████| 238/238 [00:00<00:00, 311.37batch/s]\n"
          ]
        },
        {
          "name": "stdout",
          "output_type": "stream",
          "text": [
            "Validation Loss: 0.06371175934670165, Accuracy: 0.983285075019742\n"
          ]
        },
        {
          "name": "stderr",
          "output_type": "stream",
          "text": [
            "Epoch 3/10: 100%|██████████| 1750/1750 [00:31<00:00, 56.40batch/s]\n"
          ]
        },
        {
          "name": "stdout",
          "output_type": "stream",
          "text": [
            "Epoch 3/10, Loss: 0.051751114731471586\n"
          ]
        },
        {
          "name": "stderr",
          "output_type": "stream",
          "text": [
            "Evaluation: 100%|██████████| 238/238 [00:00<00:00, 317.02batch/s]\n"
          ]
        },
        {
          "name": "stdout",
          "output_type": "stream",
          "text": [
            "Validation Loss: 0.06368909384507467, Accuracy: 0.9807844169518294\n"
          ]
        },
        {
          "name": "stderr",
          "output_type": "stream",
          "text": [
            "Epoch 4/10: 100%|██████████| 1750/1750 [00:32<00:00, 54.49batch/s]\n"
          ]
        },
        {
          "name": "stdout",
          "output_type": "stream",
          "text": [
            "Epoch 4/10, Loss: 0.045825834015434205\n"
          ]
        },
        {
          "name": "stderr",
          "output_type": "stream",
          "text": [
            "Evaluation: 100%|██████████| 238/238 [00:00<00:00, 319.86batch/s]\n"
          ]
        },
        {
          "name": "stdout",
          "output_type": "stream",
          "text": [
            "Validation Loss: 0.05909698710499523, Accuracy: 0.9840747565148723\n"
          ]
        },
        {
          "name": "stderr",
          "output_type": "stream",
          "text": [
            "Epoch 5/10: 100%|██████████| 1750/1750 [00:31<00:00, 56.22batch/s]\n"
          ]
        },
        {
          "name": "stdout",
          "output_type": "stream",
          "text": [
            "Epoch 5/10, Loss: 0.0424255477358321\n"
          ]
        },
        {
          "name": "stderr",
          "output_type": "stream",
          "text": [
            "Evaluation: 100%|██████████| 238/238 [00:01<00:00, 177.72batch/s]\n"
          ]
        },
        {
          "name": "stdout",
          "output_type": "stream",
          "text": [
            "Validation Loss: 0.054698459928544205, Accuracy: 0.9849960515925243\n"
          ]
        },
        {
          "name": "stderr",
          "output_type": "stream",
          "text": [
            "Epoch 6/10: 100%|██████████| 1750/1750 [00:31<00:00, 55.44batch/s]\n"
          ]
        },
        {
          "name": "stdout",
          "output_type": "stream",
          "text": [
            "Epoch 6/10, Loss: 0.0410356429303647\n"
          ]
        },
        {
          "name": "stderr",
          "output_type": "stream",
          "text": [
            "Evaluation: 100%|██████████| 238/238 [00:00<00:00, 302.35batch/s]\n"
          ]
        },
        {
          "name": "stdout",
          "output_type": "stream",
          "text": [
            "Validation Loss: 0.06367333216762401, Accuracy: 0.9844695972624374\n"
          ]
        },
        {
          "name": "stderr",
          "output_type": "stream",
          "text": [
            "Epoch 7/10: 100%|██████████| 1750/1750 [00:31<00:00, 54.75batch/s]\n"
          ]
        },
        {
          "name": "stdout",
          "output_type": "stream",
          "text": [
            "Epoch 7/10, Loss: 0.03756673825245317\n"
          ]
        },
        {
          "name": "stderr",
          "output_type": "stream",
          "text": [
            "Evaluation: 100%|██████████| 238/238 [00:00<00:00, 310.64batch/s]\n"
          ]
        },
        {
          "name": "stdout",
          "output_type": "stream",
          "text": [
            "Validation Loss: 0.05375857760666521, Accuracy: 0.9842063700973941\n"
          ]
        },
        {
          "name": "stderr",
          "output_type": "stream",
          "text": [
            "Epoch 8/10: 100%|██████████| 1750/1750 [00:30<00:00, 56.87batch/s]\n"
          ]
        },
        {
          "name": "stdout",
          "output_type": "stream",
          "text": [
            "Epoch 8/10, Loss: 0.037079770953860135\n"
          ]
        },
        {
          "name": "stderr",
          "output_type": "stream",
          "text": [
            "Evaluation: 100%|██████████| 238/238 [00:00<00:00, 303.27batch/s]\n"
          ]
        },
        {
          "name": "stdout",
          "output_type": "stream",
          "text": [
            "Validation Loss: 0.05263644068149954, Accuracy: 0.9861805738352198\n"
          ]
        },
        {
          "name": "stderr",
          "output_type": "stream",
          "text": [
            "Epoch 9/10: 100%|██████████| 1750/1750 [00:32<00:00, 53.68batch/s]\n"
          ]
        },
        {
          "name": "stdout",
          "output_type": "stream",
          "text": [
            "Epoch 9/10, Loss: 0.03439645685674623\n"
          ]
        },
        {
          "name": "stderr",
          "output_type": "stream",
          "text": [
            "Evaluation: 100%|██████████| 238/238 [00:00<00:00, 316.10batch/s]\n"
          ]
        },
        {
          "name": "stdout",
          "output_type": "stream",
          "text": [
            "Validation Loss: 0.05814000614961568, Accuracy: 0.9844695972624374\n"
          ]
        },
        {
          "name": "stderr",
          "output_type": "stream",
          "text": [
            "Epoch 10/10: 100%|██████████| 1750/1750 [00:31<00:00, 55.80batch/s]\n"
          ]
        },
        {
          "name": "stdout",
          "output_type": "stream",
          "text": [
            "Epoch 10/10, Loss: 0.034705068797908356\n"
          ]
        },
        {
          "name": "stderr",
          "output_type": "stream",
          "text": [
            "Evaluation: 100%|██████████| 238/238 [00:01<00:00, 173.58batch/s]\n"
          ]
        },
        {
          "name": "stdout",
          "output_type": "stream",
          "text": [
            "Validation Loss: 0.059532580946554024, Accuracy: 0.9861805738352198\n"
          ]
        },
        {
          "name": "stderr",
          "output_type": "stream",
          "text": [
            "Testing: 100%|██████████| 237/237 [00:00<00:00, 313.21batch/s]"
          ]
        },
        {
          "name": "stdout",
          "output_type": "stream",
          "text": [
            "Test Loss: 0.04237151907258107, Accuracy: 0.9902258618412363\n",
            "\n",
            "Hyperparameter Tuning Results:\n",
            "----------------------------------------------------------\n",
            "| Embedding Dim | Hidden Dim 1 | Hidden Dim 2 | Activation | Dev Accuracy | Test Accuracy |\n",
            "----------------------------------------------------------\n",
            "|           100 |          512 |          128 | ReLU       |       0.9843 |        0.9857 |\n",
            "|           100 |          512 |          128 | Tanh       |       0.9835 |        0.9896 |\n",
            "|           100 |          512 |           64 | ReLU       |       0.9853 |        0.9880 |\n",
            "|           100 |          512 |           64 | Tanh       |       0.9825 |        0.9886 |\n",
            "|           100 |          256 |          128 | ReLU       |       0.9842 |        0.9893 |\n",
            "|           100 |          256 |          128 | Tanh       |       0.9845 |        0.9898 |\n",
            "|           100 |          256 |           64 | ReLU       |       0.9849 |        0.9881 |\n",
            "|           100 |          256 |           64 | Tanh       |       0.9826 |        0.9871 |\n",
            "|           200 |          512 |          128 | ReLU       |       0.9842 |        0.9872 |\n",
            "|           200 |          512 |          128 | Tanh       |       0.9845 |        0.9877 |\n",
            "|           200 |          512 |           64 | ReLU       |       0.9838 |        0.9882 |\n",
            "|           200 |          512 |           64 | Tanh       |       0.9833 |        0.9878 |\n",
            "|           200 |          256 |          128 | ReLU       |       0.9842 |        0.9892 |\n",
            "|           200 |          256 |          128 | Tanh       |       0.9866 |        0.9905 |\n",
            "|           200 |          256 |           64 | ReLU       |       0.9838 |        0.9898 |\n",
            "|           200 |          256 |           64 | Tanh       |       0.9862 |        0.9902 |\n",
            "----------------------------------------------------------\n"
          ]
        },
        {
          "name": "stderr",
          "output_type": "stream",
          "text": [
            "\n"
          ]
        }
      ],
      "source": [
        "import itertools\n",
        "\n",
        "embedding_dims = [100, 200]\n",
        "hidden_dims1 = [512, 256]\n",
        "hidden_dims2 = [128, 64]\n",
        "activations = ['ReLU', 'Tanh']\n",
        "\n",
        "results = []\n",
        "\n",
        "for emb_dim, hid_dim1, hid_dim2, activation in itertools.product(embedding_dims, hidden_dims1, hidden_dims2, activations):\n",
        "    print(f\"Training model with embedding_dim={emb_dim}, hidden_dim1={hid_dim1}, hidden_dim2={hid_dim2}, activation={activation}\")\n",
        "\n",
        "    model = FFN_POS_Tagger(input_dim, hid_dim1, hid_dim2, output_dim, activation).to(device)\n",
        "    criterion = nn.CrossEntropyLoss()\n",
        "    optimizer = optim.Adam(model.parameters(), lr=0.001)\n",
        "    train(model, train_dataloader, dev_dataloader, criterion, optimizer, device)\n",
        "\n",
        "    dev_accuracy = calculate_accuracy_ffnn(model, dev_dataloader, device)\n",
        "\n",
        "    test_accuracy = test(model, test_dataloader, criterion, device)\n",
        "\n",
        "    results.append({\n",
        "        'embedding_dim': emb_dim,\n",
        "        'hidden_dim1': hid_dim1,\n",
        "        'hidden_dim2': hid_dim2,\n",
        "        'activation': activation,\n",
        "        'dev_accuracy': dev_accuracy,\n",
        "        'test_accuracy': test_accuracy\n",
        "    })\n",
        "\n",
        "print(\"\\nHyperparameter Tuning Results:\")\n",
        "print(\"----------------------------------------------------------\")\n",
        "print(\"| Embedding Dim | Hidden Dim 1 | Hidden Dim 2 | Activation | Dev Accuracy | Test Accuracy |\")\n",
        "print(\"----------------------------------------------------------\")\n",
        "for res in results:\n",
        "    print(f\"| {res['embedding_dim']:13} | {res['hidden_dim1']:12} | {res['hidden_dim2']:12} | {res['activation']:10} | {res['dev_accuracy']:12.4f} | {res['test_accuracy']:13.4f} |\")\n",
        "print(\"----------------------------------------------------------\")\n"
      ]
    },
    {
      "cell_type": "code",
      "execution_count": null,
      "metadata": {
        "colab": {
          "base_uri": "https://localhost:8080/"
        },
        "id": "KtWqtFQG0Gtj",
        "outputId": "8610934c-8b69-45d9-f3f5-4fc9774d64b3"
      },
      "outputs": [
        {
          "name": "stdout",
          "output_type": "stream",
          "text": [
            "Evaluation Metrics on train set\n"
          ]
        },
        {
          "name": "stderr",
          "output_type": "stream",
          "text": [
            "Evaluating: 100%|██████████| 1750/1750 [00:17<00:00, 101.85batch/s]\n"
          ]
        },
        {
          "name": "stdout",
          "output_type": "stream",
          "text": [
            "Accuracy: 0.9904613900648411\n",
            "Precision: 0.99062147312443\n",
            "Recall: 0.9904613900648411\n",
            "F1 Score: 0.9904583826166543\n",
            "Evaluation Metrics on dev set\n"
          ]
        },
        {
          "name": "stderr",
          "output_type": "stream",
          "text": [
            "Evaluating: 100%|██████████| 238/238 [00:00<00:00, 313.23batch/s]\n",
            "/usr/local/lib/python3.10/dist-packages/sklearn/metrics/_classification.py:1344: UndefinedMetricWarning: Precision and F-score are ill-defined and being set to 0.0 in labels with no predicted samples. Use `zero_division` parameter to control this behavior.\n",
            "  _warn_prf(average, modifier, msg_start, len(result))\n"
          ]
        },
        {
          "name": "stdout",
          "output_type": "stream",
          "text": [
            "Accuracy: 0.9847328244274809\n",
            "Precision: 0.9846565046841257\n",
            "Recall: 0.9847328244274809\n",
            "F1 Score: 0.9845278451358083\n",
            "Evaluation Metrics on test set\n"
          ]
        },
        {
          "name": "stderr",
          "output_type": "stream",
          "text": [
            "Evaluating: 100%|██████████| 237/237 [00:00<00:00, 499.15batch/s]"
          ]
        },
        {
          "name": "stdout",
          "output_type": "stream",
          "text": [
            "Accuracy: 0.9896975300488707\n",
            "Precision: 0.9894888732377837\n",
            "Recall: 0.9896975300488707\n",
            "F1 Score: 0.9894902321728604\n"
          ]
        },
        {
          "name": "stderr",
          "output_type": "stream",
          "text": [
            "\n"
          ]
        }
      ],
      "source": [
        "from sklearn.metrics import accuracy_score, precision_recall_fscore_support\n",
        "\n",
        "def evaluate_performance(model, dataloader, device):\n",
        "    model.eval()\n",
        "    all_targets = []\n",
        "    all_predictions = []\n",
        "    with torch.no_grad():\n",
        "        for inputs, targets in tqdm(dataloader, desc=\"Evaluating\", unit=\"batch\"):\n",
        "            inputs, targets = inputs.to(device), targets.view(-1).to(device)\n",
        "            outputs = model(inputs)\n",
        "            _, predicted = torch.max(outputs, -1)\n",
        "            all_targets.extend(targets.cpu().numpy())\n",
        "            all_predictions.extend(predicted.view(-1).cpu().numpy())\n",
        "\n",
        "    accuracy = accuracy_score(all_targets, all_predictions)\n",
        "    precision, recall, f1, _ = precision_recall_fscore_support(all_targets, all_predictions, average='weighted')\n",
        "\n",
        "    return accuracy, precision, recall, f1\n",
        "\n",
        "print('Evaluation Metrics on train set')\n",
        "traccuracy, trprecision, trrecall, trf1 = evaluate_performance(model, train_dataloader, device)\n",
        "print(f\"Accuracy: {traccuracy}\")\n",
        "print(f\"Precision: {trprecision}\")\n",
        "print(f\"Recall: {trrecall}\")\n",
        "print(f\"F1 Score: {trf1}\")\n",
        "\n",
        "print('Evaluation Metrics on dev set')\n",
        "daccuracy, dprecision, drecall, df1 = evaluate_performance(model, dev_dataloader, device)\n",
        "print(f\"Accuracy: {daccuracy}\")\n",
        "print(f\"Precision: {dprecision}\")\n",
        "print(f\"Recall: {drecall}\")\n",
        "print(f\"F1 Score: {df1}\")\n",
        "\n",
        "print('Evaluation Metrics on test set')\n",
        "taccuracy, tprecision, trecall, tf1 = evaluate_performance(model, test_dataloader, device)\n",
        "print(f\"Accuracy: {taccuracy}\")\n",
        "print(f\"Precision: {tprecision}\")\n",
        "print(f\"Recall: {trecall}\")\n",
        "print(f\"F1 Score: {tf1}\")\n"
      ]
    },
    {
      "cell_type": "code",
      "execution_count": null,
      "metadata": {
        "colab": {
          "base_uri": "https://localhost:8080/",
          "height": 917
        },
        "id": "_ErYr2yo0JSp",
        "outputId": "2fbf3f27-d9c9-4bda-f789-45b3db3dc4d7"
      },
      "outputs": [
        {
          "name": "stdout",
          "output_type": "stream",
          "text": [
            "Dev set Confusion matrix\n"
          ]
        },
        {
          "data": {
            "image/png": "[encoded data removed]",
            "text/plain": [
              "<Figure size 640x480 with 2 Axes>"
            ]
          },
          "metadata": {},
          "output_type": "display_data"
        },
        {
          "name": "stdout",
          "output_type": "stream",
          "text": [
            "Test set Confusion matrix\n"
          ]
        },
        {
          "data": {
            "image/png": "[encoded data removed]",
            "text/plain": [
              "<Figure size 640x480 with 2 Axes>"
            ]
          },
          "metadata": {},
          "output_type": "display_data"
        }
      ],
      "source": [
        "import numpy as np\n",
        "import matplotlib.pyplot as plt\n",
        "from sklearn.metrics import confusion_matrix\n",
        "import seaborn as sns\n",
        "\n",
        "def compute_and_plot_confusion_matrix(model, dataloader, device, tag_to_ix):\n",
        "    model.eval()\n",
        "    all_preds = []\n",
        "    all_true = []\n",
        "    with torch.no_grad():\n",
        "        for inputs, targets in dataloader:\n",
        "            inputs, targets = inputs.to(device), targets.to(device)\n",
        "            outputs = model(inputs)\n",
        "            _, predicted = torch.max(outputs.data, 2 if outputs.dim() > 2 else 1)\n",
        "            all_preds.extend(predicted.view(-1).cpu().numpy())\n",
        "            all_true.extend(targets.view(-1).cpu().numpy())\n",
        "\n",
        "    pad_tag_id = tag_to_ix[PAD]\n",
        "    filtered_preds = [pred for pred, true in zip(all_preds, all_true) if true != pad_tag_id]\n",
        "    filtered_true = [true for true in all_true if true != pad_tag_id]\n",
        "\n",
        "    cm = confusion_matrix(filtered_true, filtered_preds)\n",
        "    sns.heatmap(cm, annot=True, fmt='d', cmap='Blues')\n",
        "    plt.ylabel('True Labels')\n",
        "    plt.xlabel('Predicted Labels')\n",
        "    plt.show()\n",
        "\n",
        "print('Dev set Confusion matrix')\n",
        "compute_and_plot_confusion_matrix(model, dev_dataloader, device, tag_to_ix)\n",
        "print('Test set Confusion matrix')\n",
        "compute_and_plot_confusion_matrix(model, test_dataloader, device, tag_to_ix)\n"
      ]
    },
    {
      "cell_type": "code",
      "execution_count": null,
      "metadata": {
        "id": "hbm_najrZjuL"
      },
      "outputs": [],
      "source": [
        "torch.save(model.state_dict(), 'pos_tagger_model.pth')\n"
      ]
    },
    {
      "cell_type": "code",
      "execution_count": null,
      "metadata": {
        "colab": {
          "base_uri": "https://localhost:8080/"
        },
        "id": "w6_b4XY3-fLx",
        "outputId": "c64c5784-0ee1-4c58-b192-d1761f5c09ef"
      },
      "outputs": [
        {
          "name": "stdout",
          "output_type": "stream",
          "text": [
            "an : DET\n",
            "apple : ADJ\n",
            "a : DET\n",
            "day : NOUN\n",
            "keeps : VERB\n",
            "the : DET\n",
            "doctor : VERB\n",
            "away : ADV\n"
          ]
        }
      ],
      "source": [
        "def preprocess_and_predict(sentence, word_to_ix, tag_to_ix, model, device, embedding_matrix, p, s):\n",
        "    tokens = sentence.lower().split()\n",
        "    processed_sentence = [PAD] + tokens + [PAD]\n",
        "    predictions = []\n",
        "\n",
        "    model.eval()\n",
        "    with torch.no_grad():\n",
        "        for i, token in enumerate(tokens):\n",
        "\n",
        "            context_window = processed_sentence[max(0, i):i+p+1] + processed_sentence[i+1:min(i+1+s, len(processed_sentence))]\n",
        "\n",
        "            context_indices = [word_to_ix.get(word, word_to_ix['<UNK>']) for word in context_window]\n",
        "\n",
        "            while len(context_indices) < p + s + 1:\n",
        "                context_indices.append(word_to_ix['<PAD>'])  \n",
        "            context_tensor = torch.tensor([context_indices], dtype=torch.long).to(device)\n",
        "            context_embeddings = embedding_matrix[context_tensor].view(1, -1)\n",
        "            output = model(context_embeddings)\n",
        "            predicted_tag_ix = output.argmax(1).item()\n",
        "            predictions.append((token, list(tag_to_ix.keys())[list(tag_to_ix.values()).index(predicted_tag_ix)]))\n",
        "            # print()\n",
        "\n",
        "    return predictions\n",
        "\n",
        "sentence = \"An apple a day keeps the doctor away\"\n",
        "predicted_tags = preprocess_and_predict(sentence, word_to_ix, tag_to_ix, model, device, embedding_matrix, p, s)\n",
        "for token, tag in predicted_tags:\n",
        "    print(f\"{token} : {tag}\")\n"
      ]
    },
    {
      "cell_type": "code",
      "execution_count": null,
      "metadata": {
        "colab": {
          "base_uri": "https://localhost:8080/"
        },
        "id": "CfcOBqnRZt67",
        "outputId": "9b6f26a4-5312-4dba-9c00-c35ac2643017"
      },
      "outputs": [
        {
          "name": "stdout",
          "output_type": "stream",
          "text": [
            "Context Window for token 'an': ['<START>', 'an', 'apple']\n",
            "Context Window for token 'apple': ['an', 'apple', 'a']\n",
            "Context Window for token 'a': ['apple', 'a', 'day']\n",
            "Context Window for token 'day': ['a', 'day', 'keeps']\n",
            "Context Window for token 'keeps': ['day', 'keeps', 'the']\n",
            "Context Window for token 'the': ['keeps', 'the', 'doctor']\n",
            "Context Window for token 'doctor': ['the', 'doctor', 'away']\n",
            "Context Window for token 'away': ['doctor', 'away', '<END>']\n",
            "an: DET\n",
            "apple: VERB\n",
            "a: DET\n",
            "day: NOUN\n",
            "keeps: VERB\n",
            "the: DET\n",
            "doctor: VERB\n",
            "away: ADV\n"
          ]
        }
      ],
      "source": [
        "model = FFN_POS_Tagger(embedding_dim * 3, 512, 128, len(tag_to_ix)).to(device)\n",
        "model.load_state_dict(torch.load('pos_tagger_model.pth'))\n",
        "\n",
        "sentence = \"An apple a day keeps the doctor away\"\n",
        "predicted_tags = preprocess_and_predict(sentence, word_to_ix, tag_to_ix, model, device, embedding_matrix, p, s)\n",
        "for token, tag in predicted_tags:\n",
        "    print(f\"{token}: {tag}\")\n"
      ]
    },
    {
      "cell_type": "code",
      "execution_count": null,
      "metadata": {
        "id": "DNLWFwHNRNvs"
      },
      "outputs": [],
      "source": []
    }
  ],
  "metadata": {
    "colab": {
      "provenance": []
    },
    "kernelspec": {
      "display_name": "Python 3",
      "name": "python3"
    },
    "language_info": {
      "name": "python"
    }
  },
  "nbformat": 4,
  "nbformat_minor": 0
}
